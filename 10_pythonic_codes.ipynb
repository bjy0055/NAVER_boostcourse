{
 "cells": [
  {
   "cell_type": "markdown",
   "id": "48861a5b",
   "metadata": {},
   "source": [
    "# split 함수"
   ]
  },
  {
   "cell_type": "code",
   "execution_count": 17,
   "id": "45e6839e",
   "metadata": {},
   "outputs": [
    {
     "name": "stdout",
     "output_type": "stream",
     "text": [
      "['zero', 'one', 'two', 'three']\n"
     ]
    }
   ],
   "source": [
    "items = 'zero one two three'.split()\n",
    "print(items)\n",
    "#빈칸을 기준으로 문자열 나누기"
   ]
  },
  {
   "cell_type": "code",
   "execution_count": 9,
   "id": "935a3c9c",
   "metadata": {},
   "outputs": [
    {
     "data": {
      "text/plain": [
       "['python', ' java', ' c++']"
      ]
     },
     "execution_count": 9,
     "metadata": {},
     "output_type": "execute_result"
    }
   ],
   "source": [
    "example = 'python, java, c++'\n",
    "example.split(\",\")\n",
    "# \",\"을 기준으로 나누기"
   ]
  },
  {
   "cell_type": "code",
   "execution_count": 13,
   "id": "d24dff16",
   "metadata": {},
   "outputs": [],
   "source": [
    "a, b, c = example.split(\",\")\n",
    "#리스트에 있는 각 값을 a, b, c 변수로 unpacking\n",
    "\n",
    "example = 'teamlab.technology.io'\n",
    "subdomain, domain, tld = example.split('.')\n",
    "#\".\"을 기준으로 문자열 나누기 -> Unpacking"
   ]
  },
  {
   "cell_type": "markdown",
   "id": "71d2dcc1",
   "metadata": {},
   "source": [
    "# join 함수"
   ]
  },
  {
   "cell_type": "code",
   "execution_count": 16,
   "id": "2be7eef1",
   "metadata": {},
   "outputs": [
    {
     "data": {
      "text/plain": [
       "'redbluegreenyellow'"
      ]
     },
     "execution_count": 16,
     "metadata": {},
     "output_type": "execute_result"
    }
   ],
   "source": [
    "colors = ['red', 'blue', 'green', 'yellow']\n",
    "result = ''.join(colors) # 연결 시 빈칸 1칸으로 연결\n",
    "result"
   ]
  },
  {
   "cell_type": "code",
   "execution_count": 18,
   "id": "41d64f4c",
   "metadata": {},
   "outputs": [
    {
     "data": {
      "text/plain": [
       "'red,blue,green,yellow'"
      ]
     },
     "execution_count": 18,
     "metadata": {},
     "output_type": "execute_result"
    }
   ],
   "source": [
    "result = ','.join(colors)\n",
    "result # 연결 시 \" , \" 으로 연결"
   ]
  },
  {
   "cell_type": "code",
   "execution_count": 19,
   "id": "e641e940",
   "metadata": {},
   "outputs": [
    {
     "data": {
      "text/plain": [
       "'red-blue-green-yellow'"
      ]
     },
     "execution_count": 19,
     "metadata": {},
     "output_type": "execute_result"
    }
   ],
   "source": [
    "result = '-'.join(colors)\n",
    "result # 연결 시 \" -\" 으로 연결"
   ]
  },
  {
   "cell_type": "markdown",
   "id": "e9508e15",
   "metadata": {},
   "source": [
    "# list comprehension  -> 포괄적인 list, 포함되는 리스트라는 의미로 사용됨"
   ]
  },
  {
   "cell_type": "code",
   "execution_count": 22,
   "id": "227c1ec6",
   "metadata": {},
   "outputs": [
    {
     "data": {
      "text/plain": [
       "[0, 1, 2, 3, 4, 5, 6, 7, 8, 9]"
      ]
     },
     "execution_count": 22,
     "metadata": {},
     "output_type": "execute_result"
    }
   ],
   "source": [
    "result = []\n",
    "for i in range(10):\n",
    "    result.append(i)\n",
    "    \n",
    "result"
   ]
  },
  {
   "cell_type": "code",
   "execution_count": 23,
   "id": "30158c13",
   "metadata": {},
   "outputs": [
    {
     "data": {
      "text/plain": [
       "[0, 1, 2, 3, 4, 5, 6, 7, 8, 9]"
      ]
     },
     "execution_count": 23,
     "metadata": {},
     "output_type": "execute_result"
    }
   ],
   "source": [
    "result = [i for i in range(10)]\n",
    "result"
   ]
  },
  {
   "cell_type": "code",
   "execution_count": 24,
   "id": "3f68cfbf",
   "metadata": {},
   "outputs": [
    {
     "data": {
      "text/plain": [
       "[0, 2, 4, 6, 8]"
      ]
     },
     "execution_count": 24,
     "metadata": {},
     "output_type": "execute_result"
    }
   ],
   "source": [
    "result = [i for i in range(10) if i % 2 == 0]\n",
    "result"
   ]
  },
  {
   "cell_type": "code",
   "execution_count": 25,
   "id": "8c086fb9",
   "metadata": {},
   "outputs": [
    {
     "data": {
      "text/plain": [
       "['HW',\n",
       " 'Ho',\n",
       " 'Hr',\n",
       " 'Hl',\n",
       " 'Hd',\n",
       " 'eW',\n",
       " 'eo',\n",
       " 'er',\n",
       " 'el',\n",
       " 'ed',\n",
       " 'lW',\n",
       " 'lo',\n",
       " 'lr',\n",
       " 'll',\n",
       " 'ld',\n",
       " 'lW',\n",
       " 'lo',\n",
       " 'lr',\n",
       " 'll',\n",
       " 'ld',\n",
       " 'oW',\n",
       " 'oo',\n",
       " 'or',\n",
       " 'ol',\n",
       " 'od']"
      ]
     },
     "execution_count": 25,
     "metadata": {},
     "output_type": "execute_result"
    }
   ],
   "source": [
    "word_1 = \"Hello\"\n",
    "word_2 = \"World\"\n",
    "result = [ i+j for i in word_1 for j in word_2]\n",
    "result"
   ]
  },
  {
   "cell_type": "code",
   "execution_count": 26,
   "id": "2630d566",
   "metadata": {},
   "outputs": [
    {
     "data": {
      "text/plain": [
       "['AD', 'AE', 'AA', 'BD', 'BE', 'BA', 'CD', 'CE', 'CA']"
      ]
     },
     "execution_count": 26,
     "metadata": {},
     "output_type": "execute_result"
    }
   ],
   "source": [
    "case_1 = [\"A\", \"B\", \"C\"]\n",
    "case_2 = [\"D\", \"E\", \"A\"]\n",
    "result = [ i+j for i in case_1 for j in case_2]\n",
    "result"
   ]
  },
  {
   "cell_type": "code",
   "execution_count": 27,
   "id": "6db4f9de",
   "metadata": {},
   "outputs": [
    {
     "data": {
      "text/plain": [
       "['AD', 'AE', 'BD', 'BE', 'BA', 'CD', 'CE', 'CA']"
      ]
     },
     "execution_count": 27,
     "metadata": {},
     "output_type": "execute_result"
    }
   ],
   "source": [
    "case_1 = [\"A\", \"B\", \"C\"]\n",
    "case_2 = [\"D\", \"E\", \"A\"]\n",
    "result = [ i+j for i in case_1 for j in case_2 if not (i == j)]\n",
    "result"
   ]
  },
  {
   "cell_type": "code",
   "execution_count": 28,
   "id": "2121b968",
   "metadata": {},
   "outputs": [
    {
     "data": {
      "text/plain": [
       "['AD', 'AE', 'BA', 'BD', 'BE', 'CA', 'CD', 'CE']"
      ]
     },
     "execution_count": 28,
     "metadata": {},
     "output_type": "execute_result"
    }
   ],
   "source": [
    "result.sort()\n",
    "result"
   ]
  },
  {
   "cell_type": "markdown",
   "id": "08a7683c",
   "metadata": {},
   "source": [
    "# sort : 정렬, 기본값은 오름차순 정렬, reverse옵션 True는 내림차순 정렬\n"
   ]
  },
  {
   "cell_type": "code",
   "execution_count": 45,
   "id": "7d817da3",
   "metadata": {},
   "outputs": [
    {
     "data": {
      "text/plain": [
       "[1, 5, 6, 7, 10]"
      ]
     },
     "execution_count": 45,
     "metadata": {},
     "output_type": "execute_result"
    }
   ],
   "source": [
    "a = [1, 10, 5, 7, 6]\n",
    "a.sort()\n",
    "a"
   ]
  },
  {
   "cell_type": "code",
   "execution_count": 32,
   "id": "bc8e9f66",
   "metadata": {},
   "outputs": [
    {
     "data": {
      "text/plain": [
       "[10, 7, 6, 5, 1]"
      ]
     },
     "execution_count": 32,
     "metadata": {},
     "output_type": "execute_result"
    }
   ],
   "source": [
    "a = [1, 10, 5, 7, 6]\n",
    "a.sort(reverse=True)\n",
    "a"
   ]
  },
  {
   "cell_type": "code",
   "execution_count": 33,
   "id": "5ed8eca7",
   "metadata": {},
   "outputs": [
    {
     "name": "stdout",
     "output_type": "stream",
     "text": [
      "['The', 'quick', 'brown', 'fox', 'jumps', 'over', 'the', 'lazy', 'dog']\n"
     ]
    }
   ],
   "source": [
    "words = 'The quick brown fox jumps over the lazy dog'.split()\n",
    "print(words)"
   ]
  },
  {
   "cell_type": "code",
   "execution_count": 39,
   "id": "562dd183",
   "metadata": {},
   "outputs": [
    {
     "name": "stdout",
     "output_type": "stream",
     "text": [
      "['THE', 'the', 3]\n",
      "['QUICK', 'quick', 5]\n",
      "['BROWN', 'brown', 5]\n",
      "['FOX', 'fox', 3]\n",
      "['JUMPS', 'jumps', 5]\n",
      "['OVER', 'over', 4]\n",
      "['THE', 'the', 3]\n",
      "['LAZY', 'lazy', 4]\n",
      "['DOG', 'dog', 3]\n"
     ]
    }
   ],
   "source": [
    "stuff = [[w.upper(), w.lower(), len(w)] for w in words]\n",
    "for i in stuff:\n",
    "    print(i)"
   ]
  },
  {
   "cell_type": "markdown",
   "id": "33efd625",
   "metadata": {},
   "source": [
    "# two dimensional"
   ]
  },
  {
   "cell_type": "code",
   "execution_count": 44,
   "id": "2d12bfc5",
   "metadata": {},
   "outputs": [
    {
     "data": {
      "text/plain": [
       "[['AD', 'BD', 'CD'], ['AE', 'BE', 'CE'], ['AA', 'BA', 'CA']]"
      ]
     },
     "execution_count": 44,
     "metadata": {},
     "output_type": "execute_result"
    }
   ],
   "source": [
    "case_1 = [\"A\", \"B\", \"C\"]\n",
    "case_2 = [\"D\", \"E\", \"A\"]\n",
    "result = [[i+j for i in case_1] for j in case_2]\n",
    "result"
   ]
  },
  {
   "cell_type": "markdown",
   "id": "0e183379",
   "metadata": {},
   "source": [
    "# enumerate:열거하다 & zip: 두 개의 list의 값을 병렬적으로 추출함 "
   ]
  },
  {
   "cell_type": "code",
   "execution_count": 46,
   "id": "93e33d25",
   "metadata": {
    "scrolled": true
   },
   "outputs": [
    {
     "name": "stdout",
     "output_type": "stream",
     "text": [
      "0 tic\n",
      "1 tac\n",
      "2 toe\n"
     ]
    }
   ],
   "source": [
    "for i, v in enumerate(['tic', 'tac', 'toe']):\n",
    "# list의 있는 index와 값을 unpacking\n",
    "    print(i, v)"
   ]
  },
  {
   "cell_type": "code",
   "execution_count": 47,
   "id": "0d91b58f",
   "metadata": {},
   "outputs": [
    {
     "data": {
      "text/plain": [
       "[(0, 'a'), (1, 'b'), (2, 'c'), (3, 'd')]"
      ]
     },
     "execution_count": 47,
     "metadata": {},
     "output_type": "execute_result"
    }
   ],
   "source": [
    "mylist = ['a', 'b', 'c', 'd']\n",
    "list(enumerate(mylist)) # list의 있는 index 와 값을 unpacking 하여 list로 저장"
   ]
  },
  {
   "cell_type": "code",
   "execution_count": 50,
   "id": "a65b77ee",
   "metadata": {},
   "outputs": [
    {
     "data": {
      "text/plain": [
       "{0: 'Artifical',\n",
       " 1: 'intelligence(AI),',\n",
       " 2: 'is',\n",
       " 3: 'intelligence',\n",
       " 4: 'demonstrated',\n",
       " 5: 'by',\n",
       " 6: 'machines,unlike',\n",
       " 7: 'the',\n",
       " 8: 'natural',\n",
       " 9: 'intelligence',\n",
       " 10: 'displayed',\n",
       " 11: 'by',\n",
       " 12: 'humans',\n",
       " 13: 'and',\n",
       " 14: 'animals'}"
      ]
     },
     "execution_count": 50,
     "metadata": {},
     "output_type": "execute_result"
    }
   ],
   "source": [
    "{i:j for i,j in enumerate('Artifical intelligence(AI), is intelligence demonstrated by machines,unlike the natural intelligence displayed by humans and animals'.split())}"
   ]
  },
  {
   "cell_type": "code",
   "execution_count": 52,
   "id": "02374b87",
   "metadata": {},
   "outputs": [
    {
     "name": "stdout",
     "output_type": "stream",
     "text": [
      "a1 b1\n",
      "a2 b2\n",
      "a3 b3\n"
     ]
    }
   ],
   "source": [
    "alist = ['a1', 'a2', 'a3']\n",
    "blist = ['b1', 'b2', 'b3']\n",
    "for a, b in zip(alist, blist):\n",
    "    print(a, b)"
   ]
  },
  {
   "cell_type": "markdown",
   "id": "f2dbf9f0",
   "metadata": {},
   "source": [
    "# enumerate & zip 동시 사용 사례"
   ]
  },
  {
   "cell_type": "code",
   "execution_count": 54,
   "id": "839ebb7e",
   "metadata": {},
   "outputs": [
    {
     "name": "stdout",
     "output_type": "stream",
     "text": [
      "0 ai b1\n",
      "1 a2 b2\n",
      "2 a3 b3\n"
     ]
    }
   ],
   "source": [
    "alist = ['ai', 'a2', 'a3']\n",
    "blist = ['b1', 'b2', 'b3']\n",
    "for i, (a,b) in enumerate(zip(alist, blist)):\n",
    "    print(i, a, b)"
   ]
  },
  {
   "cell_type": "markdown",
   "id": "518d53a4",
   "metadata": {},
   "source": [
    "# lambda & map & reduce"
   ]
  },
  {
   "cell_type": "code",
   "execution_count": 55,
   "id": "0643b65c",
   "metadata": {},
   "outputs": [
    {
     "name": "stdout",
     "output_type": "stream",
     "text": [
      "5\n"
     ]
    }
   ],
   "source": [
    "def f(x, y):\n",
    "    return x + y\n",
    "print(f(1, 4))"
   ]
  },
  {
   "cell_type": "code",
   "execution_count": 58,
   "id": "cad8651a",
   "metadata": {},
   "outputs": [
    {
     "name": "stdout",
     "output_type": "stream",
     "text": [
      "5\n"
     ]
    }
   ],
   "source": [
    "f = lambda x, y : x + y\n",
    "print(f(1,4))"
   ]
  },
  {
   "cell_type": "code",
   "execution_count": 59,
   "id": "b416a0fa",
   "metadata": {},
   "outputs": [
    {
     "name": "stdout",
     "output_type": "stream",
     "text": [
      "5\n"
     ]
    }
   ],
   "source": [
    "f =lambda x, y: x + y\n",
    "print(f(1,4))"
   ]
  },
  {
   "cell_type": "code",
   "execution_count": 60,
   "id": "fdc7464b",
   "metadata": {},
   "outputs": [
    {
     "name": "stdout",
     "output_type": "stream",
     "text": [
      "9\n"
     ]
    }
   ],
   "source": [
    "f = lambda x: x ** 2\n",
    "print(f(3))"
   ]
  },
  {
   "cell_type": "code",
   "execution_count": null,
   "id": "befdcf7c",
   "metadata": {},
   "outputs": [],
   "source": [
    "# f = lambda x: x / 2\n",
    "print(f(3))"
   ]
  },
  {
   "cell_type": "code",
   "execution_count": 62,
   "id": "2adcba3c",
   "metadata": {},
   "outputs": [
    {
     "name": "stdout",
     "output_type": "stream",
     "text": [
      "6\n"
     ]
    }
   ],
   "source": [
    "print((lambda x: x + 1)(5))"
   ]
  },
  {
   "cell_type": "markdown",
   "id": "91a9dd96",
   "metadata": {},
   "source": [
    "# map function overview"
   ]
  },
  {
   "cell_type": "markdown",
   "id": "0160e05f",
   "metadata": {},
   "source": [
    "map은 리스트의 요소를 지정된 함수로 처리해주는 함수입니다. \n",
    "(map은 원본 리스트를 변경하지 않고 새 리스트를 생성합니다.)\n",
    " -> list(map(함수, 리스트))\n",
    " -> tuple(map(함수, 튜플))"
   ]
  },
  {
   "cell_type": "code",
   "execution_count": 3,
   "id": "70883f4c",
   "metadata": {},
   "outputs": [
    {
     "data": {
      "text/plain": [
       "[1, 2, 3, 4]"
      ]
     },
     "execution_count": 3,
     "metadata": {},
     "output_type": "execute_result"
    }
   ],
   "source": [
    "a = [1.2, 2.5, 3.7, 4.6]\n",
    "for i in range (len(a)):\n",
    "    a[i] = int(a[i])\n",
    "a"
   ]
  },
  {
   "cell_type": "code",
   "execution_count": 4,
   "id": "d1ad7e82",
   "metadata": {},
   "outputs": [
    {
     "data": {
      "text/plain": [
       "[1, 2, 3, 4]"
      ]
     },
     "execution_count": 4,
     "metadata": {},
     "output_type": "execute_result"
    }
   ],
   "source": [
    "a = [1.2, 2.5, 3.7, 4.6]\n",
    "a = list(map(int, a))\n",
    "a"
   ]
  },
  {
   "cell_type": "code",
   "execution_count": 63,
   "id": "ebd9d48f",
   "metadata": {},
   "outputs": [
    {
     "name": "stdout",
     "output_type": "stream",
     "text": [
      "[2, 4, 6, 8, 10]\n"
     ]
    }
   ],
   "source": [
    "ex = [1, 2, 3, 4, 5]\n",
    "f = lambda x, y: x + y\n",
    "print(list(map(f, ex, ex)))"
   ]
  },
  {
   "cell_type": "code",
   "execution_count": 64,
   "id": "e1ed854a",
   "metadata": {},
   "outputs": [
    {
     "data": {
      "text/plain": [
       "[1, 4, 3, 16, 5]"
      ]
     },
     "execution_count": 64,
     "metadata": {},
     "output_type": "execute_result"
    }
   ],
   "source": [
    "list(\n",
    "    map(\n",
    "    lambda x: x **2 if x %2 ==0\n",
    "    else x,\n",
    "    ex)\n",
    ")"
   ]
  },
  {
   "cell_type": "markdown",
   "id": "2e1ad60a",
   "metadata": {},
   "source": [
    "# reduce function overview"
   ]
  },
  {
   "cell_type": "code",
   "execution_count": null,
   "id": "b41a9b5d",
   "metadata": {},
   "outputs": [],
   "source": [
    "# map function과 달리 list에 똑같은 함수를 적용해서 통합"
   ]
  },
  {
   "cell_type": "markdown",
   "id": "98e14c0f",
   "metadata": {},
   "source": [
    "# iterable object"
   ]
  },
  {
   "cell_type": "code",
   "execution_count": null,
   "id": "547ec4e8",
   "metadata": {},
   "outputs": [],
   "source": [
    "iterable 자료형: 반복 가능한\n",
    "    연속된 데이터를 하나의 변수에 모아 두는 것\n",
    "\n",
    "List : 가장 일반적인 iterable 자료형입니다. 값 접근, 추가, 수정, 삭제가 자유롭습니다.\n",
    "Tuple : List와 유사하지만, Tuple은 한 번 정의하고 나면 값 접근은 가능하지만 추가, 수정, 삭제가 불가능합니다. Read-only List라고 생각할 수 있습니다.\n",
    "Dictionary : key-value 쌍으로 이루어진 자료형입니다.\n",
    "Set : 수학의 집합 개념과 비슷합니다. 중복을 허용하지 않으며, 순서가 보장되지 않습니다.\n",
    "    "
   ]
  },
  {
   "cell_type": "code",
   "execution_count": null,
   "id": "d06d58d1",
   "metadata": {},
   "outputs": [],
   "source": [
    "iterable 의 의미는 member를 하나씩 차례로 반환 가능한 object를 말한다.\n",
    "\n",
    "iterator 는 next() 메소드로 데이터를 순차적으로 호출 가능한 object 이다."
   ]
  },
  {
   "cell_type": "code",
   "execution_count": 5,
   "id": "d0b90393",
   "metadata": {},
   "outputs": [
    {
     "name": "stdout",
     "output_type": "stream",
     "text": [
      "1\n",
      "2\n"
     ]
    }
   ],
   "source": [
    "arr = [1,2,3,4]\n",
    "ir = iter(arr) #iterator 객체 얻는 방법 , iter라는 이름의 함수를 호출하며, 리스트를 전달함\n",
    "\n",
    "print(next(ir)) # next 함수를 통해서, 객체를 전달하며 리스트에 저장된 값을 하나씩 꺼낼 수 있다.\n",
    "print(next(ir))"
   ]
  },
  {
   "cell_type": "code",
   "execution_count": 25,
   "id": "71e4c41c",
   "metadata": {},
   "outputs": [
    {
     "data": {
      "text/plain": [
       "3"
      ]
     },
     "execution_count": 25,
     "metadata": {},
     "output_type": "execute_result"
    }
   ],
   "source": [
    "a = [1,2,3]\n",
    "a_iter = iter(a)\n",
    "next(a_iter)\n",
    "next(a_iter)\n",
    "next(a_iter)"
   ]
  },
  {
   "cell_type": "code",
   "execution_count": 26,
   "id": "eea4419d",
   "metadata": {},
   "outputs": [
    {
     "data": {
      "text/plain": [
       "['__and__',\n",
       " '__class__',\n",
       " '__contains__',\n",
       " '__delattr__',\n",
       " '__dir__',\n",
       " '__doc__',\n",
       " '__eq__',\n",
       " '__format__',\n",
       " '__ge__',\n",
       " '__getattribute__',\n",
       " '__gt__',\n",
       " '__hash__',\n",
       " '__iand__',\n",
       " '__init__',\n",
       " '__init_subclass__',\n",
       " '__ior__',\n",
       " '__isub__',\n",
       " '__iter__',\n",
       " '__ixor__',\n",
       " '__le__',\n",
       " '__len__',\n",
       " '__lt__',\n",
       " '__ne__',\n",
       " '__new__',\n",
       " '__or__',\n",
       " '__rand__',\n",
       " '__reduce__',\n",
       " '__reduce_ex__',\n",
       " '__repr__',\n",
       " '__ror__',\n",
       " '__rsub__',\n",
       " '__rxor__',\n",
       " '__setattr__',\n",
       " '__sizeof__',\n",
       " '__str__',\n",
       " '__sub__',\n",
       " '__subclasshook__',\n",
       " '__xor__',\n",
       " 'add',\n",
       " 'clear',\n",
       " 'copy',\n",
       " 'difference',\n",
       " 'difference_update',\n",
       " 'discard',\n",
       " 'intersection',\n",
       " 'intersection_update',\n",
       " 'isdisjoint',\n",
       " 'issubset',\n",
       " 'issuperset',\n",
       " 'pop',\n",
       " 'remove',\n",
       " 'symmetric_difference',\n",
       " 'symmetric_difference_update',\n",
       " 'union',\n",
       " 'update']"
      ]
     },
     "execution_count": 26,
     "metadata": {},
     "output_type": "execute_result"
    }
   ],
   "source": [
    "b = {1,2,3}\n",
    "dir(b)"
   ]
  },
  {
   "cell_type": "code",
   "execution_count": 7,
   "id": "d9735e45",
   "metadata": {},
   "outputs": [
    {
     "name": "stdout",
     "output_type": "stream",
     "text": [
      "Seoul\tBusan\tPohang\tPython\tC\tJava\tPython is easy"
     ]
    }
   ],
   "source": [
    "#Sequence 형 자료형에서 데이터를 순서대로 추출하는 object\n",
    "for city in ['Seoul', 'Busan', 'Pohang']:\n",
    "    print(city, end='\\t')\n",
    "\n",
    "for language in ('Python','C', 'Java'):\n",
    "    print(language, end='\\t')\n",
    "\n",
    "for char in \"Python is easy\":\n",
    "    print( char, end=\"\")"
   ]
  },
  {
   "cell_type": "code",
   "execution_count": 8,
   "id": "0fe86b0a",
   "metadata": {},
   "outputs": [],
   "source": [
    "#내부적 구현으로 _iter_와 _next_가 사용됨\n",
    "#iter() 와 next() 함수로 iterable 객체를 iterator object로 사용"
   ]
  },
  {
   "cell_type": "code",
   "execution_count": 10,
   "id": "e502a8df",
   "metadata": {},
   "outputs": [
    {
     "name": "stdout",
     "output_type": "stream",
     "text": [
      "Seoul\n",
      "Busan\n",
      "Jeju\n"
     ]
    },
    {
     "ename": "StopIteration",
     "evalue": "",
     "output_type": "error",
     "traceback": [
      "\u001b[1;31m------------------------------------------------------------------------\u001b[0m",
      "\u001b[1;31mStopIteration\u001b[0m                          Traceback (most recent call last)",
      "\u001b[1;32mC:\\Users\\BAEKJI~1\\AppData\\Local\\Temp/ipykernel_20772/2060195200.py\u001b[0m in \u001b[0;36m<module>\u001b[1;34m\u001b[0m\n\u001b[0;32m      5\u001b[0m \u001b[0mprint\u001b[0m\u001b[1;33m(\u001b[0m\u001b[0mnext\u001b[0m\u001b[1;33m(\u001b[0m\u001b[0miter_obj\u001b[0m\u001b[1;33m)\u001b[0m\u001b[1;33m)\u001b[0m\u001b[1;33m\u001b[0m\u001b[1;33m\u001b[0m\u001b[0m\n\u001b[0;32m      6\u001b[0m \u001b[0mprint\u001b[0m\u001b[1;33m(\u001b[0m\u001b[0mnext\u001b[0m\u001b[1;33m(\u001b[0m\u001b[0miter_obj\u001b[0m\u001b[1;33m)\u001b[0m\u001b[1;33m)\u001b[0m\u001b[1;33m\u001b[0m\u001b[1;33m\u001b[0m\u001b[0m\n\u001b[1;32m----> 7\u001b[1;33m \u001b[0mnext\u001b[0m\u001b[1;33m(\u001b[0m\u001b[0miter_obj\u001b[0m\u001b[1;33m)\u001b[0m\u001b[1;33m\u001b[0m\u001b[1;33m\u001b[0m\u001b[0m\n\u001b[0m",
      "\u001b[1;31mStopIteration\u001b[0m: "
     ]
    }
   ],
   "source": [
    "cities = ['Seoul', 'Busan', 'Jeju']\n",
    "iter_obj = iter(cities) # --> memory address를 가져오게 되는 것\n",
    "\n",
    "print(next(iter_obj))\n",
    "print(next(iter_obj))\n",
    "print(next(iter_obj))\n",
    "next(iter_obj) # --> 값을 실제 보기 위해서는 next를 사용해야 함."
   ]
  },
  {
   "cell_type": "markdown",
   "id": "e6435335",
   "metadata": {},
   "source": [
    "# generator"
   ]
  },
  {
   "cell_type": "code",
   "execution_count": null,
   "id": "64d5d796",
   "metadata": {},
   "outputs": [],
   "source": [
    "# iterable object를 특수한 형태로 사용해주는 함수\n",
    "# element가 사용되는 시점에 값을 메모리에 반환 -> 메모리주소를 절약할 수 있음\n",
    "# :yield를 사용해 한번에 하나의 element만 반환함"
   ]
  },
  {
   "cell_type": "code",
   "execution_count": 31,
   "id": "33919d81",
   "metadata": {},
   "outputs": [
    {
     "data": {
      "text/plain": [
       "3"
      ]
     },
     "execution_count": 31,
     "metadata": {},
     "output_type": "execute_result"
    }
   ],
   "source": [
    "def test_generator():\n",
    "    yield 1\n",
    "    yield 2\n",
    "    yield 3\n",
    "    \n",
    "gen = test_generator()\n",
    "type(gen)\n",
    "next(gen)\n",
    "next(gen)\n",
    "next(gen)"
   ]
  },
  {
   "cell_type": "code",
   "execution_count": 12,
   "id": "4137e0cf",
   "metadata": {},
   "outputs": [],
   "source": [
    "def general_list(value):\n",
    "    result = []\n",
    "    for i in range(value):\n",
    "        result.append(i)\n",
    "    return result\n",
    "\n",
    "\n",
    "###############################\n",
    "def generator_list(value):\n",
    "    result = []\n",
    "    for i in range(value):\n",
    "        yield i"
   ]
  },
  {
   "cell_type": "code",
   "execution_count": 14,
   "id": "c0e3454c",
   "metadata": {},
   "outputs": [
    {
     "name": "stdout",
     "output_type": "stream",
     "text": [
      "<class 'generator'>\n"
     ]
    }
   ],
   "source": [
    "#list comprehension과 유사한 형태로 generator 형태의 list생성\n",
    "#generator expressiong 이라는 이름으로도 부름\n",
    "# [] 대신 ()를 사용하여 표현\n",
    "\n",
    "gen_ex = (n*n for n in range(500))\n",
    "print(type(gen_ex))"
   ]
  },
  {
   "cell_type": "markdown",
   "id": "afabf1a2",
   "metadata": {},
   "source": [
    "# function passing arguments(함수 인자)"
   ]
  },
  {
   "cell_type": "code",
   "execution_count": null,
   "id": "ec2100d4",
   "metadata": {},
   "outputs": [],
   "source": [
    "#함수에 입력되는 arguments의 다양한 형태\n",
    "# 1. Keyword arguments\n",
    "# 2. Default arguments\n",
    "# 3. Variable-length arguments"
   ]
  },
  {
   "cell_type": "code",
   "execution_count": 1,
   "id": "af7edceb",
   "metadata": {},
   "outputs": [
    {
     "name": "stdout",
     "output_type": "stream",
     "text": [
      "Hello TEAMLAB, My name is Sungchul\n",
      "Hello TEAMLAB, My name is Sungchul\n"
     ]
    }
   ],
   "source": [
    "# 1. Keyword arguments\n",
    "# 함수에 입력되는 parameter의 변수명을 사용,arguments를 넘김\n",
    "\n",
    "def print_something(my_name, your_name):\n",
    "    print(\"Hello {0}, My name is {1}\".format(your_name, my_name))\n",
    "print_something(\"Sungchul\", \"TEAMLAB\")\n",
    "print_something(your_name = \"TEAMLAB\", my_name = \"Sungchul\")"
   ]
  },
  {
   "cell_type": "code",
   "execution_count": 5,
   "id": "4d773bd2",
   "metadata": {},
   "outputs": [
    {
     "name": "stdout",
     "output_type": "stream",
     "text": [
      "Hello TEAMLAB, My name is Sungchul\n"
     ]
    }
   ],
   "source": [
    "# 2. Default arguments\n",
    "# parameter의 기본 값을 사용, 입력하지 않을 경우 기본값 출력\n",
    "\n",
    "def print_something_2(my_name, your_name=\"TEAMLAB\"):\n",
    "    print(\"Hello {0}, My name is {1}\".format(your_name, my_name))\n",
    "\n",
    "    \n",
    "print_something_2(\"Sungchul\", \"TEAMLAB\")\n",
    "print_something_2(\"Sunghchul\")"
   ]
  },
  {
   "cell_type": "code",
   "execution_count": null,
   "id": "ef6665f1",
   "metadata": {},
   "outputs": [],
   "source": [
    "# 3. Variable-length arguments\n",
    "# 함수의 parameter가 정해지지 않았다? -> 가변인자 using asterisk"
   ]
  },
  {
   "cell_type": "markdown",
   "id": "7e427a64",
   "metadata": {},
   "source": [
    "# asterisk"
   ]
  },
  {
   "cell_type": "raw",
   "id": "de16b156",
   "metadata": {},
   "source": [
    "# 가변인자 (variable-length)\n",
    "# 개수가 정해지지 않은 변수를 함수의 parameter로 사용하는 법\n",
    "# keyword arguments와 함께, argument 추가가 가능\n",
    "# Asterisk(*)기호를 사용하여 함수의 parameter를 표시함\n",
    "# 입력된 값은 tuple type으로 사용할 수 있음\n",
    "# 가변인자는 오직 한 개만 맨 마지막 parameter 위치에 사용가능"
   ]
  },
  {
   "cell_type": "raw",
   "id": "4e471b3b",
   "metadata": {},
   "source": [
    "# 가변인자는 일반적으로 *args를 변수명으로 사용\n",
    "# 기존 parameter 이후에 나오는 값을 tuple로 저장함"
   ]
  },
  {
   "cell_type": "code",
   "execution_count": 9,
   "id": "d830e976",
   "metadata": {},
   "outputs": [
    {
     "name": "stdout",
     "output_type": "stream",
     "text": [
      "15\n"
     ]
    }
   ],
   "source": [
    "def asterisk_test(a,b, *args):\n",
    "    return a+b+sum(args)\n",
    "    \n",
    "print(asterisk_test(1,2,3,4,5))"
   ]
  },
  {
   "cell_type": "code",
   "execution_count": 10,
   "id": "3e00c377",
   "metadata": {},
   "outputs": [
    {
     "name": "stdout",
     "output_type": "stream",
     "text": [
      "(3, 4, 5)\n"
     ]
    }
   ],
   "source": [
    "def asterisk_test_2(*args):\n",
    "    x, y, z = args\n",
    "    return x, y, z\n",
    "\n",
    "print(asterisk_test_2(3,4,5))"
   ]
  },
  {
   "cell_type": "code",
   "execution_count": 11,
   "id": "38dd1819",
   "metadata": {},
   "outputs": [],
   "source": [
    "# 키워드 가변인자 (Keyword variable-length)\n",
    "# parameter 이름을 따로 지정하지 않고 입력하는 방법\n",
    "asterisk(*) 두개를 사용하여 함수의 parameter를 표시함\n",
    "# 입력된 값은 dict type으로 사용할 수 있음\n",
    "# 가변인자는 오직 한 개만 기존 가변인자 다음에 사용"
   ]
  },
  {
   "cell_type": "code",
   "execution_count": 14,
   "id": "9e9f6cd8",
   "metadata": {},
   "outputs": [
    {
     "name": "stdout",
     "output_type": "stream",
     "text": [
      "42\n",
      "{'first': 3, 'second': 4, 'third': 5}\n"
     ]
    }
   ],
   "source": [
    "'''def kwargs_test_1(**kwargs):\n",
    "    print(kwargs)\n",
    "    \n",
    "def kwargs_test_2(**kwargs):\n",
    "    print(kwargs)\n",
    "    print(\"First value is {first}\".format(**kwargs))\n",
    "    print(\"Second value is{second}\".format(**kwargs))\n",
    "    print(\"Third value is {third}\".format(**kwargs)) '''\n",
    "    \n",
    "def kwargs_test_3(one, two=2, *args, **kwargs):\n",
    "    print(one+two+sum(args))\n",
    "    print(kwargs)\n",
    "    \n",
    "kwargs_test_3(3,4,5,6,7,8,9, first=3, second=4, third=5)"
   ]
  },
  {
   "cell_type": "raw",
   "id": "e7123f8e",
   "metadata": {},
   "source": [
    "asterisk - unpacking a container = 값을 풀어주는...\n",
    "-> tuple, dict등 자료형에 들어가 있는 값을 unpacking\n",
    "-> 함수의 입력값, zip 등에 유용하게 사용가능"
   ]
  },
  {
   "cell_type": "code",
   "execution_count": 15,
   "id": "a2726f4a",
   "metadata": {},
   "outputs": [
    {
     "name": "stdout",
     "output_type": "stream",
     "text": [
      "1 (2, 3, 4, 5, 6)\n",
      "<class 'tuple'>\n"
     ]
    }
   ],
   "source": [
    "def asterisk_test(a, *args):\n",
    "    print(a, args)\n",
    "    print(type(args))\n",
    "\n",
    "asterisk_test(1, *(2,3,4,5,6))"
   ]
  },
  {
   "cell_type": "code",
   "execution_count": 16,
   "id": "c112b1a4",
   "metadata": {},
   "outputs": [
    {
     "name": "stdout",
     "output_type": "stream",
     "text": [
      "1 2 3 4 5 6\n",
      "<class 'tuple'>\n"
     ]
    }
   ],
   "source": [
    "def asterisk_test(a, args):\n",
    "    print(a, *args)\n",
    "    print(type(args))\n",
    "    \n",
    "asterisk_test(1, (2,3,4,5,6))"
   ]
  },
  {
   "cell_type": "code",
   "execution_count": 18,
   "id": "8b65242e",
   "metadata": {},
   "outputs": [
    {
     "name": "stdout",
     "output_type": "stream",
     "text": [
      "[1, 2] [3, 4] [5, 6]\n",
      "[1, 2] [3, 4] [5, 6]\n"
     ]
    }
   ],
   "source": [
    "a, b, c = ([1,2],[3,4],[5,6])\n",
    "print(a,b,c)\n",
    "\n",
    "data = ([1,2],[3,4],[5,6])\n",
    "print(*data)\n"
   ]
  },
  {
   "cell_type": "code",
   "execution_count": 19,
   "id": "6db598d0",
   "metadata": {},
   "outputs": [
    {
     "name": "stdout",
     "output_type": "stream",
     "text": [
      "10 1 2 3\n"
     ]
    }
   ],
   "source": [
    "def asterisk_test(a, b, c, d):\n",
    "    print(a, b, c, d)\n",
    "    \n",
    "data = {\"b\":1, \"c\": 2, \"d\": 3}\n",
    "asterisk_test(10,**data)"
   ]
  },
  {
   "cell_type": "code",
   "execution_count": 20,
   "id": "ef11df22",
   "metadata": {},
   "outputs": [
    {
     "name": "stdout",
     "output_type": "stream",
     "text": [
      "(1, 3, 5)\n",
      "(2, 4, 6)\n"
     ]
    }
   ],
   "source": [
    "for data in zip(*([1,2],[3,4],[5,6])):\n",
    "    print(data)"
   ]
  },
  {
   "cell_type": "code",
   "execution_count": null,
   "id": "c183b04a",
   "metadata": {},
   "outputs": [],
   "source": []
  },
  {
   "cell_type": "code",
   "execution_count": null,
   "id": "41df4372",
   "metadata": {},
   "outputs": [],
   "source": []
  },
  {
   "cell_type": "code",
   "execution_count": null,
   "id": "8736b407",
   "metadata": {},
   "outputs": [],
   "source": []
  },
  {
   "cell_type": "code",
   "execution_count": null,
   "id": "8854d74f",
   "metadata": {},
   "outputs": [],
   "source": []
  }
 ],
 "metadata": {
  "kernelspec": {
   "display_name": "Python 3 (ipykernel)",
   "language": "python",
   "name": "python3"
  },
  "language_info": {
   "codemirror_mode": {
    "name": "ipython",
    "version": 3
   },
   "file_extension": ".py",
   "mimetype": "text/x-python",
   "name": "python",
   "nbconvert_exporter": "python",
   "pygments_lexer": "ipython3",
   "version": "3.8.10"
  }
 },
 "nbformat": 4,
 "nbformat_minor": 5
}
