{
 "cells": [
  {
   "cell_type": "markdown",
   "id": "8a58a358",
   "metadata": {},
   "source": [
    "# Array creation"
   ]
  },
  {
   "cell_type": "code",
   "execution_count": 2,
   "id": "282ad7a6",
   "metadata": {},
   "outputs": [],
   "source": [
    "import numpy as np"
   ]
  },
  {
   "cell_type": "code",
   "execution_count": 3,
   "id": "49699152",
   "metadata": {},
   "outputs": [
    {
     "data": {
      "text/plain": [
       "array([1., 4., 5., 8.])"
      ]
     },
     "execution_count": 3,
     "metadata": {},
     "output_type": "execute_result"
    }
   ],
   "source": [
    "test_array = np.array([1,4,5,8], float)\n",
    "test_array"
   ]
  },
  {
   "cell_type": "code",
   "execution_count": 4,
   "id": "aca93d55",
   "metadata": {},
   "outputs": [
    {
     "data": {
      "text/plain": [
       "numpy.float64"
      ]
     },
     "execution_count": 4,
     "metadata": {},
     "output_type": "execute_result"
    }
   ],
   "source": [
    "type(test_array[3])"
   ]
  },
  {
   "cell_type": "code",
   "execution_count": 5,
   "id": "3bb46930",
   "metadata": {},
   "outputs": [
    {
     "name": "stdout",
     "output_type": "stream",
     "text": [
      "[1. 4. 5. 8.]\n",
      "<class 'numpy.float64'>\n",
      "float64\n",
      "(4,)\n"
     ]
    }
   ],
   "source": [
    "test_array = np.array([1,4,5,'8'], float)\n",
    "print(test_array)\n",
    "print(type(test_array[3]))\n",
    "print(test_array.dtype)  # dtype -> numpy array의 데이터 type을 반환함\n",
    "print(test_array.shape)  #shape -> numpy array의 object의 dimension 구성을 반환함"
   ]
  },
  {
   "cell_type": "code",
   "execution_count": 7,
   "id": "61588151",
   "metadata": {},
   "outputs": [
    {
     "data": {
      "text/plain": [
       "array([1., 4., 5., 8.])"
      ]
     },
     "execution_count": 7,
     "metadata": {},
     "output_type": "execute_result"
    }
   ],
   "source": [
    "test_array = np.array([1,4,5,\"8\"],float) #String Type의 데이터를 입력해도...\n",
    "test_array"
   ]
  },
  {
   "cell_type": "code",
   "execution_count": 9,
   "id": "94492e9d",
   "metadata": {},
   "outputs": [
    {
     "data": {
      "text/plain": [
       "numpy.float64"
      ]
     },
     "execution_count": 9,
     "metadata": {},
     "output_type": "execute_result"
    }
   ],
   "source": [
    "type(test_array[3]) # Float Type으로 자동 형변환 실시"
   ]
  },
  {
   "cell_type": "code",
   "execution_count": 10,
   "id": "099cf684",
   "metadata": {},
   "outputs": [
    {
     "data": {
      "text/plain": [
       "dtype('float64')"
      ]
     },
     "execution_count": 10,
     "metadata": {},
     "output_type": "execute_result"
    }
   ],
   "source": [
    "test_array.dtype  # Array(배열) 전체의 데이터 Type을 반환함"
   ]
  },
  {
   "cell_type": "code",
   "execution_count": 11,
   "id": "6d0bd852",
   "metadata": {},
   "outputs": [
    {
     "data": {
      "text/plain": [
       "(4,)"
      ]
     },
     "execution_count": 11,
     "metadata": {},
     "output_type": "execute_result"
    }
   ],
   "source": [
    "test_array.shape  # Array(배열) 의 shape을 반환함"
   ]
  },
  {
   "cell_type": "markdown",
   "id": "ba81267d",
   "metadata": {},
   "source": [
    "# Array shape (martix)"
   ]
  },
  {
   "cell_type": "code",
   "execution_count": 20,
   "id": "e2e5a56c",
   "metadata": {},
   "outputs": [
    {
     "data": {
      "text/plain": [
       "(3, 4)"
      ]
     },
     "execution_count": 20,
     "metadata": {},
     "output_type": "execute_result"
    }
   ],
   "source": [
    "matrix = [[1,2,5,8], [1,2,5,8], [1,2,5,8]]\n",
    "np.array(matrix, int).shape"
   ]
  },
  {
   "cell_type": "markdown",
   "id": "dd27e7e0",
   "metadata": {},
   "source": [
    "# Array shape (3rd order tensor)"
   ]
  },
  {
   "cell_type": "code",
   "execution_count": 23,
   "id": "c4db67bf",
   "metadata": {},
   "outputs": [
    {
     "data": {
      "text/plain": [
       "(4, 3, 4)"
      ]
     },
     "execution_count": 23,
     "metadata": {},
     "output_type": "execute_result"
    }
   ],
   "source": [
    "tensor = [[[1,2,5,8], [1,2,5,8], [1,2,5,8]],\n",
    "          [[1,2,5,8], [1,2,5,8], [1,2,5,8]],\n",
    "          [[1,2,5,8], [1,2,5,8], [1,2,5,8]],\n",
    "          [[1,2,5,8], [1,2,5,8], [1,2,5,8]]]\n",
    "           \n",
    "\n",
    "np.array(tensor, int).shape"
   ]
  },
  {
   "cell_type": "code",
   "execution_count": 24,
   "id": "cb59921f",
   "metadata": {},
   "outputs": [
    {
     "data": {
      "text/plain": [
       "3"
      ]
     },
     "execution_count": 24,
     "metadata": {},
     "output_type": "execute_result"
    }
   ],
   "source": [
    "np.array(tensor, int).ndim"
   ]
  },
  {
   "cell_type": "code",
   "execution_count": 25,
   "id": "a5556935",
   "metadata": {},
   "outputs": [
    {
     "data": {
      "text/plain": [
       "48"
      ]
     },
     "execution_count": 25,
     "metadata": {},
     "output_type": "execute_result"
    }
   ],
   "source": [
    "np.array(tensor, int).size"
   ]
  },
  {
   "cell_type": "markdown",
   "id": "27b7d82a",
   "metadata": {},
   "source": [
    "# Array dtype"
   ]
  },
  {
   "cell_type": "markdown",
   "id": "fdd586bc",
   "metadata": {},
   "source": [
    "- Ndarray의 single element가 가지는 data type\n",
    "- 각 element가 차지하는 memory의 크기가 결정됨"
   ]
  },
  {
   "cell_type": "code",
   "execution_count": 26,
   "id": "d5b57250",
   "metadata": {},
   "outputs": [
    {
     "data": {
      "text/plain": [
       "array([[1, 2, 3],\n",
       "       [4, 5, 6]])"
      ]
     },
     "execution_count": 26,
     "metadata": {},
     "output_type": "execute_result"
    }
   ],
   "source": [
    "np.array([[1,2,3],[4.5,5,6]], dtype=int)"
   ]
  },
  {
   "cell_type": "code",
   "execution_count": 27,
   "id": "39a27282",
   "metadata": {},
   "outputs": [
    {
     "data": {
      "text/plain": [
       "array([[1. , 2. , 3. ],\n",
       "       [4.5, 5. , 6. ]], dtype=float32)"
      ]
     },
     "execution_count": 27,
     "metadata": {},
     "output_type": "execute_result"
    }
   ],
   "source": [
    "np.array([[1,2,3],[4.5,'5','6']], dtype=np.float32)"
   ]
  },
  {
   "cell_type": "code",
   "execution_count": null,
   "id": "8d31650b",
   "metadata": {},
   "outputs": [],
   "source": [
    "# nbytes - ndarray object의 메모리 크기를 반환함"
   ]
  },
  {
   "cell_type": "code",
   "execution_count": 28,
   "id": "89c1122e",
   "metadata": {},
   "outputs": [
    {
     "data": {
      "text/plain": [
       "24"
      ]
     },
     "execution_count": 28,
     "metadata": {},
     "output_type": "execute_result"
    }
   ],
   "source": [
    "np.array([[1,2,3], [4.5,'5','6']], dtype=np.float32).nbytes\n",
    "# 32bits = 4bites -> 6 * 4 bytes"
   ]
  },
  {
   "cell_type": "code",
   "execution_count": 29,
   "id": "06dbe69a",
   "metadata": {},
   "outputs": [
    {
     "data": {
      "text/plain": [
       "6"
      ]
     },
     "execution_count": 29,
     "metadata": {},
     "output_type": "execute_result"
    }
   ],
   "source": [
    "np.array([[1,2,3], [4.5,'5','6']], dtype=np.int8).nbytes\n",
    "# 8bits = 1bytes -> 6 * 1bytes"
   ]
  },
  {
   "cell_type": "code",
   "execution_count": 31,
   "id": "35bbbdbb",
   "metadata": {},
   "outputs": [
    {
     "data": {
      "text/plain": [
       "48"
      ]
     },
     "execution_count": 31,
     "metadata": {},
     "output_type": "execute_result"
    }
   ],
   "source": [
    "np.array([[1,2,3], [4.5,'5','6']], dtype=np.int64).nbytes\n",
    "# 64bits = 8bytes -> 6 * 8bytes"
   ]
  },
  {
   "cell_type": "markdown",
   "id": "7cd6fd57",
   "metadata": {},
   "source": [
    "# Handling shape"
   ]
  },
  {
   "cell_type": "markdown",
   "id": "c14b0b27",
   "metadata": {},
   "source": [
    "reshape : Array의 shape의 크기를 변경함 (element의 갯수는 동일)\n",
    "          , Array의 size만 같아면 다차원으로 자유로이 변형가능"
   ]
  },
  {
   "cell_type": "code",
   "execution_count": 3,
   "id": "92f16582",
   "metadata": {},
   "outputs": [
    {
     "data": {
      "text/plain": [
       "(2, 4)"
      ]
     },
     "execution_count": 3,
     "metadata": {},
     "output_type": "execute_result"
    }
   ],
   "source": [
    "test_matrix = [[1,2,3,4], [1,2,5,8]]\n",
    "np.array(test_matrix).shape"
   ]
  },
  {
   "cell_type": "code",
   "execution_count": 6,
   "id": "fb50a024",
   "metadata": {},
   "outputs": [
    {
     "data": {
      "text/plain": [
       "array([1, 2, 3, 4, 1, 2, 5, 8])"
      ]
     },
     "execution_count": 6,
     "metadata": {},
     "output_type": "execute_result"
    }
   ],
   "source": [
    "np.array(test_matrix).reshape(8, )"
   ]
  },
  {
   "cell_type": "code",
   "execution_count": 5,
   "id": "e1f49873",
   "metadata": {},
   "outputs": [
    {
     "data": {
      "text/plain": [
       "(8,)"
      ]
     },
     "execution_count": 5,
     "metadata": {},
     "output_type": "execute_result"
    }
   ],
   "source": [
    "np.array(test_matrix).reshape(8, ).shape"
   ]
  },
  {
   "cell_type": "code",
   "execution_count": 7,
   "id": "e8da1f16",
   "metadata": {},
   "outputs": [
    {
     "data": {
      "text/plain": [
       "(2, 4)"
      ]
     },
     "execution_count": 7,
     "metadata": {},
     "output_type": "execute_result"
    }
   ],
   "source": [
    "np.array(test_matrix).reshape(2,4).shape"
   ]
  },
  {
   "cell_type": "code",
   "execution_count": 8,
   "id": "628e77b4",
   "metadata": {},
   "outputs": [
    {
     "data": {
      "text/plain": [
       "(4, 2)"
      ]
     },
     "execution_count": 8,
     "metadata": {},
     "output_type": "execute_result"
    }
   ],
   "source": [
    "np.array(test_matrix).reshape(-1, 2).shape  # -1 : size를 기반으로row 개수 선정"
   ]
  },
  {
   "cell_type": "markdown",
   "id": "a06455cd",
   "metadata": {},
   "source": [
    "(1) reshape(-1, 정수) 의 행(row) 위치에 '-1'이 들어있을 경우"
   ]
  },
  {
   "cell_type": "code",
   "execution_count": 9,
   "id": "506dd2fe",
   "metadata": {},
   "outputs": [],
   "source": [
    "import numpy as np"
   ]
  },
  {
   "cell_type": "code",
   "execution_count": 15,
   "id": "5333de01",
   "metadata": {},
   "outputs": [],
   "source": [
    "x = np.arange(12).reshape(3, 4)"
   ]
  },
  {
   "cell_type": "code",
   "execution_count": 16,
   "id": "d6b56e9f",
   "metadata": {},
   "outputs": [
    {
     "data": {
      "text/plain": [
       "(3, 4)"
      ]
     },
     "execution_count": 16,
     "metadata": {},
     "output_type": "execute_result"
    }
   ],
   "source": [
    "x.shape"
   ]
  },
  {
   "cell_type": "code",
   "execution_count": 17,
   "id": "8254cdce",
   "metadata": {},
   "outputs": [
    {
     "data": {
      "text/plain": [
       "array([[ 0,  1,  2,  3],\n",
       "       [ 4,  5,  6,  7],\n",
       "       [ 8,  9, 10, 11]])"
      ]
     },
     "execution_count": 17,
     "metadata": {},
     "output_type": "execute_result"
    }
   ],
   "source": [
    "x"
   ]
  },
  {
   "cell_type": "code",
   "execution_count": 18,
   "id": "5cacb2d4",
   "metadata": {},
   "outputs": [
    {
     "data": {
      "text/plain": [
       "array([[ 0],\n",
       "       [ 1],\n",
       "       [ 2],\n",
       "       [ 3],\n",
       "       [ 4],\n",
       "       [ 5],\n",
       "       [ 6],\n",
       "       [ 7],\n",
       "       [ 8],\n",
       "       [ 9],\n",
       "       [10],\n",
       "       [11]])"
      ]
     },
     "execution_count": 18,
     "metadata": {},
     "output_type": "execute_result"
    }
   ],
   "source": [
    "x.reshape(-1, 1)  # x.reshape(-1, 1) => shape(12, 1)"
   ]
  },
  {
   "cell_type": "code",
   "execution_count": 19,
   "id": "40987b4f",
   "metadata": {},
   "outputs": [
    {
     "data": {
      "text/plain": [
       "array([[ 0,  1],\n",
       "       [ 2,  3],\n",
       "       [ 4,  5],\n",
       "       [ 6,  7],\n",
       "       [ 8,  9],\n",
       "       [10, 11]])"
      ]
     },
     "execution_count": 19,
     "metadata": {},
     "output_type": "execute_result"
    }
   ],
   "source": [
    "x.reshape(-1, 2)  # x.reshape(-1, 1) => shape(6, 2)"
   ]
  },
  {
   "cell_type": "code",
   "execution_count": 20,
   "id": "2f9e788e",
   "metadata": {},
   "outputs": [
    {
     "data": {
      "text/plain": [
       "array([[ 0,  1,  2],\n",
       "       [ 3,  4,  5],\n",
       "       [ 6,  7,  8],\n",
       "       [ 9, 10, 11]])"
      ]
     },
     "execution_count": 20,
     "metadata": {},
     "output_type": "execute_result"
    }
   ],
   "source": [
    "x.reshape(-1, 3)  # x.reshape(-1, 3) => shape(4, 3)"
   ]
  },
  {
   "cell_type": "code",
   "execution_count": 21,
   "id": "3895d57e",
   "metadata": {},
   "outputs": [
    {
     "data": {
      "text/plain": [
       "array([[ 0,  1,  2,  3],\n",
       "       [ 4,  5,  6,  7],\n",
       "       [ 8,  9, 10, 11]])"
      ]
     },
     "execution_count": 21,
     "metadata": {},
     "output_type": "execute_result"
    }
   ],
   "source": [
    "x.reshape(-1, 4) # x.reshape(-1, 4) => shape(3, 4)"
   ]
  },
  {
   "cell_type": "markdown",
   "id": "02cef5af",
   "metadata": {},
   "source": [
    "(2) reshape(정수, -1) 의 열(column) 위치에 '-1'이 들어있을 경우"
   ]
  },
  {
   "cell_type": "code",
   "execution_count": 22,
   "id": "767dabb4",
   "metadata": {},
   "outputs": [
    {
     "data": {
      "text/plain": [
       "array([[ 0,  1,  2,  3,  4,  5,  6,  7,  8,  9, 10, 11]])"
      ]
     },
     "execution_count": 22,
     "metadata": {},
     "output_type": "execute_result"
    }
   ],
   "source": [
    "x.reshape(1, -1) # x.reshape(1, -1) => shape(1, 12)"
   ]
  },
  {
   "cell_type": "code",
   "execution_count": 23,
   "id": "f7cc3b43",
   "metadata": {},
   "outputs": [
    {
     "data": {
      "text/plain": [
       "array([[ 0,  1,  2,  3,  4,  5],\n",
       "       [ 6,  7,  8,  9, 10, 11]])"
      ]
     },
     "execution_count": 23,
     "metadata": {},
     "output_type": "execute_result"
    }
   ],
   "source": [
    "x.reshape(2, -1) # x.reshape(2, -1) => shape(2, 6)"
   ]
  },
  {
   "cell_type": "code",
   "execution_count": 24,
   "id": "80aa5c81",
   "metadata": {},
   "outputs": [
    {
     "data": {
      "text/plain": [
       "array([[ 0,  1,  2,  3],\n",
       "       [ 4,  5,  6,  7],\n",
       "       [ 8,  9, 10, 11]])"
      ]
     },
     "execution_count": 24,
     "metadata": {},
     "output_type": "execute_result"
    }
   ],
   "source": [
    "x.reshape(3, -1) # x.reshape(3, -1) => shape(3, 4)"
   ]
  },
  {
   "cell_type": "code",
   "execution_count": 25,
   "id": "69bad827",
   "metadata": {},
   "outputs": [
    {
     "data": {
      "text/plain": [
       "array([[ 0,  1,  2],\n",
       "       [ 3,  4,  5],\n",
       "       [ 6,  7,  8],\n",
       "       [ 9, 10, 11]])"
      ]
     },
     "execution_count": 25,
     "metadata": {},
     "output_type": "execute_result"
    }
   ],
   "source": [
    "x.reshape(4, -1) # x.reshape(4, -1) => shape(4, 3)"
   ]
  },
  {
   "cell_type": "raw",
   "id": "ccc338af",
   "metadata": {},
   "source": [
    "(3) reshape(-1) 인 경우"
   ]
  },
  {
   "cell_type": "code",
   "execution_count": 26,
   "id": "edbc9001",
   "metadata": {},
   "outputs": [
    {
     "data": {
      "text/plain": [
       "array([ 0,  1,  2,  3,  4,  5,  6,  7,  8,  9, 10, 11])"
      ]
     },
     "execution_count": 26,
     "metadata": {},
     "output_type": "execute_result"
    }
   ],
   "source": [
    "x.reshape(-1) # x.reshape(1, -1)과 같이 일차원 배열을 반환한다"
   ]
  },
  {
   "cell_type": "code",
   "execution_count": 27,
   "id": "1c9a70da",
   "metadata": {},
   "outputs": [
    {
     "data": {
      "text/plain": [
       "array([[ 0,  1,  2,  3,  4,  5,  6,  7,  8,  9, 10, 11]])"
      ]
     },
     "execution_count": 27,
     "metadata": {},
     "output_type": "execute_result"
    }
   ],
   "source": [
    "x.reshape(1, -1)"
   ]
  },
  {
   "cell_type": "raw",
   "id": "65e88973",
   "metadata": {},
   "source": []
  },
  {
   "cell_type": "markdown",
   "id": "1fd17454",
   "metadata": {},
   "source": [
    "flatten : 다차원 array를 1차원 array로 변환"
   ]
  },
  {
   "cell_type": "code",
   "execution_count": 28,
   "id": "ecab5e79",
   "metadata": {
    "scrolled": true
   },
   "outputs": [
    {
     "data": {
      "text/plain": [
       "array([1, 2, 3, 4, 1, 2, 5, 8, 1, 2, 3, 4, 1, 2, 5, 8])"
      ]
     },
     "execution_count": 28,
     "metadata": {},
     "output_type": "execute_result"
    }
   ],
   "source": [
    "test_matrix = [[[1,2,3,4],[1,2,5,8]], [[1,2,3,4], [1,2,5,8]]]\n",
    "np.array(test_matrix).flatten()"
   ]
  },
  {
   "cell_type": "markdown",
   "id": "c1d51464",
   "metadata": {},
   "source": [
    "# Indexing & slicing"
   ]
  },
  {
   "cell_type": "markdown",
   "id": "8dce1b9d",
   "metadata": {},
   "source": [
    "Indexing\n",
    "  - List와 달리 이차원 배열에서 [0,0] 과 같이 표기법을 제공함\n",
    "  - Matrix 일 경우 앞은 row, 뒤는 column을 의미함 "
   ]
  },
  {
   "cell_type": "code",
   "execution_count": 34,
   "id": "fa73fc08",
   "metadata": {},
   "outputs": [
    {
     "name": "stdout",
     "output_type": "stream",
     "text": [
      "[[1 2 3]\n",
      " [4 5 6]]\n",
      "1\n",
      "1\n",
      "[[12  2  3]\n",
      " [ 4  5  6]]\n",
      "[[5 2 3]\n",
      " [4 5 6]]\n"
     ]
    }
   ],
   "source": [
    "a = np.array([[1,2,3], [4.5,5,6]], int)\n",
    "print(a)\n",
    "print(a[0,0])   # Two dimensional array representation #1\n",
    "print(a[0][0])  # Two dimensional array representation #2\n",
    "\n",
    "a[0,0] = 12     # Matrix 0,0 에 12 할당\n",
    "print(a)\n",
    "\n",
    "a[0][0] = 5     # Matrix 0,0 에 5 할당\n",
    "print(a)"
   ]
  },
  {
   "cell_type": "code",
   "execution_count": 37,
   "id": "2e84846e",
   "metadata": {},
   "outputs": [
    {
     "data": {
      "text/plain": [
       "array([[1, 2, 3],\n",
       "       [4, 5, 6]])"
      ]
     },
     "execution_count": 37,
     "metadata": {},
     "output_type": "execute_result"
    }
   ],
   "source": [
    "test_example = np.array([[1,2,3], [4.5,5,6]], int)\n",
    "test_example"
   ]
  },
  {
   "cell_type": "code",
   "execution_count": 38,
   "id": "9ad1ae09",
   "metadata": {},
   "outputs": [
    {
     "data": {
      "text/plain": [
       "1"
      ]
     },
     "execution_count": 38,
     "metadata": {},
     "output_type": "execute_result"
    }
   ],
   "source": [
    "test_example[0][0]"
   ]
  },
  {
   "cell_type": "code",
   "execution_count": 39,
   "id": "eea40cbf",
   "metadata": {},
   "outputs": [
    {
     "data": {
      "text/plain": [
       "1"
      ]
     },
     "execution_count": 39,
     "metadata": {},
     "output_type": "execute_result"
    }
   ],
   "source": [
    "test_example[0,0]"
   ]
  },
  {
   "cell_type": "code",
   "execution_count": 41,
   "id": "442d409a",
   "metadata": {},
   "outputs": [
    {
     "data": {
      "text/plain": [
       "array([[12,  2,  3],\n",
       "       [ 4,  5,  6]])"
      ]
     },
     "execution_count": 41,
     "metadata": {},
     "output_type": "execute_result"
    }
   ],
   "source": [
    "test_example[0,0] = 12 # Matrix 0,0 에 12 할당\n",
    "test_example"
   ]
  },
  {
   "cell_type": "code",
   "execution_count": 42,
   "id": "a9356186",
   "metadata": {},
   "outputs": [
    {
     "data": {
      "text/plain": [
       "5"
      ]
     },
     "execution_count": 42,
     "metadata": {},
     "output_type": "execute_result"
    }
   ],
   "source": [
    "test_example[0][0] = 5  # Matrix 0,0 에 5 할당\n",
    "test_example[0, 0]"
   ]
  },
  {
   "cell_type": "raw",
   "id": "d894c0e6",
   "metadata": {},
   "source": [
    "slicing\n",
    " - List와 달리 행과 열 부분을 나눠서 slicing이 가능함\n",
    " - Matrix의 부분 집합을 추출할 때 유용함"
   ]
  },
  {
   "cell_type": "code",
   "execution_count": 46,
   "id": "6bb3e90c",
   "metadata": {},
   "outputs": [
    {
     "data": {
      "text/plain": [
       "array([[ 6,  7,  8,  9, 10]])"
      ]
     },
     "execution_count": 46,
     "metadata": {},
     "output_type": "execute_result"
    }
   ],
   "source": [
    "a = np.array([[1,2,3,4,5],[6,7,8,9,10]], int)\n",
    "a[:,2:] # 전체 Row의 2열 이상\n",
    "a[1,1:3] # 1 Row의 1열 ~ 2열\n",
    "a[1:3] # 1 Row ~ 2Row의 전체"
   ]
  },
  {
   "cell_type": "code",
   "execution_count": 47,
   "id": "39b4a0c0",
   "metadata": {},
   "outputs": [
    {
     "data": {
      "text/plain": [
       "array([[1, 2, 5, 8],\n",
       "       [1, 2, 5, 8]])"
      ]
     },
     "execution_count": 47,
     "metadata": {},
     "output_type": "execute_result"
    }
   ],
   "source": [
    "test_example = np.array([\n",
    "    [1, 2, 5, 8], [1, 2, 5, 8], [1,2, 5, 8], [1, 2, 5, 8]], int)\n",
    "test_example[:2, :]"
   ]
  },
  {
   "cell_type": "code",
   "execution_count": 50,
   "id": "62c6c628",
   "metadata": {},
   "outputs": [
    {
     "data": {
      "text/plain": [
       "array([[ 3,  4,  5],\n",
       "       [ 8,  9, 10]])"
      ]
     },
     "execution_count": 50,
     "metadata": {},
     "output_type": "execute_result"
    }
   ],
   "source": [
    "test_example = np.array([[1,2,3,4,5], [6,7,8,9,10]], int)\n",
    "test_example[:, 2:] #전체 Row의 2열 이상"
   ]
  },
  {
   "cell_type": "code",
   "execution_count": 52,
   "id": "f5d0687a",
   "metadata": {},
   "outputs": [
    {
     "data": {
      "text/plain": [
       "array([7, 8])"
      ]
     },
     "execution_count": 52,
     "metadata": {},
     "output_type": "execute_result"
    }
   ],
   "source": [
    "test_example[1, 1:3]  # 1 Row의 1열 ~ 2열"
   ]
  },
  {
   "cell_type": "code",
   "execution_count": 53,
   "id": "6b28dfe3",
   "metadata": {},
   "outputs": [
    {
     "data": {
      "text/plain": [
       "array([[ 6,  7,  8,  9, 10]])"
      ]
     },
     "execution_count": 53,
     "metadata": {},
     "output_type": "execute_result"
    }
   ],
   "source": [
    "test_example[1:3]  # 1 Row ~ 2 Row의 전체"
   ]
  },
  {
   "cell_type": "markdown",
   "id": "16eea117",
   "metadata": {},
   "source": [
    "# creation function"
   ]
  },
  {
   "cell_type": "code",
   "execution_count": 55,
   "id": "5a810b00",
   "metadata": {},
   "outputs": [],
   "source": [
    "import numpy as np"
   ]
  },
  {
   "cell_type": "code",
   "execution_count": 57,
   "id": "2e035b44",
   "metadata": {},
   "outputs": [
    {
     "data": {
      "text/plain": [
       "array([ 0,  1,  2,  3,  4,  5,  6,  7,  8,  9, 10, 11, 12, 13, 14, 15, 16,\n",
       "       17, 18, 19, 20, 21, 22, 23, 24, 25, 26, 27, 28, 29])"
      ]
     },
     "execution_count": 57,
     "metadata": {},
     "output_type": "execute_result"
    }
   ],
   "source": [
    "np.arange(30) # range: List의 range와 같은 효과, integer로 0부터 29까지 배열 추출"
   ]
  },
  {
   "cell_type": "code",
   "execution_count": 60,
   "id": "a32d9abd",
   "metadata": {},
   "outputs": [
    {
     "data": {
      "text/plain": [
       "array([0. , 0.5, 1. , 1.5, 2. , 2.5, 3. , 3.5, 4. , 4.5])"
      ]
     },
     "execution_count": 60,
     "metadata": {},
     "output_type": "execute_result"
    }
   ],
   "source": [
    "np.arange(0, 5, 0.5)  # floating point도 표시 가능함"
   ]
  },
  {
   "cell_type": "code",
   "execution_count": 61,
   "id": "665d90fe",
   "metadata": {},
   "outputs": [
    {
     "data": {
      "text/plain": [
       "array([[ 0,  1,  2,  3,  4,  5],\n",
       "       [ 6,  7,  8,  9, 10, 11],\n",
       "       [12, 13, 14, 15, 16, 17],\n",
       "       [18, 19, 20, 21, 22, 23],\n",
       "       [24, 25, 26, 27, 28, 29]])"
      ]
     },
     "execution_count": 61,
     "metadata": {},
     "output_type": "execute_result"
    }
   ],
   "source": [
    "np.arange(30).reshape(5,6)"
   ]
  },
  {
   "cell_type": "markdown",
   "id": "764b788c",
   "metadata": {},
   "source": [
    "# ones, zeros and empty"
   ]
  },
  {
   "cell_type": "markdown",
   "id": "e8f8bb1f",
   "metadata": {},
   "source": [
    "- zeros - 0으로 가득한 ndarray 생성\n",
    "- np.zeros(shape, dtype, order)"
   ]
  },
  {
   "cell_type": "code",
   "execution_count": 62,
   "id": "a624b4ea",
   "metadata": {},
   "outputs": [
    {
     "data": {
      "text/plain": [
       "array([0, 0, 0, 0, 0, 0, 0, 0, 0, 0], dtype=int8)"
      ]
     },
     "execution_count": 62,
     "metadata": {},
     "output_type": "execute_result"
    }
   ],
   "source": [
    "np.zeros(shape=(10,), dtype=np.int8)   # 10 - zero vector 생성"
   ]
  },
  {
   "cell_type": "code",
   "execution_count": 64,
   "id": "bb72db52",
   "metadata": {},
   "outputs": [
    {
     "data": {
      "text/plain": [
       "array([[0., 0., 0., 0., 0.],\n",
       "       [0., 0., 0., 0., 0.]])"
      ]
     },
     "execution_count": 64,
     "metadata": {},
     "output_type": "execute_result"
    }
   ],
   "source": [
    "np.zeros((2,5))    # 2 by 5 - zero matrix 생성 "
   ]
  },
  {
   "cell_type": "markdown",
   "id": "9e419d3c",
   "metadata": {},
   "source": [
    "- ones - 1로 가득한 ndarrary 생성\n",
    "- np.ones(shape, dtype, order)"
   ]
  },
  {
   "cell_type": "code",
   "execution_count": 65,
   "id": "e592ea7a",
   "metadata": {},
   "outputs": [
    {
     "data": {
      "text/plain": [
       "array([1, 1, 1, 1, 1, 1, 1, 1, 1, 1], dtype=int8)"
      ]
     },
     "execution_count": 65,
     "metadata": {},
     "output_type": "execute_result"
    }
   ],
   "source": [
    "np.ones(shape=(10,), dtype=np.int8)"
   ]
  },
  {
   "cell_type": "code",
   "execution_count": 66,
   "id": "3e384ed6",
   "metadata": {},
   "outputs": [
    {
     "data": {
      "text/plain": [
       "array([[1., 1., 1., 1., 1.],\n",
       "       [1., 1., 1., 1., 1.]])"
      ]
     },
     "execution_count": 66,
     "metadata": {},
     "output_type": "execute_result"
    }
   ],
   "source": [
    "np.ones((2,5))"
   ]
  },
  {
   "cell_type": "markdown",
   "id": "85d22628",
   "metadata": {},
   "source": [
    "- empty - shape만 주어지고 비어있는 ndarray 생성\n",
    "          (memory initialization 이 되지 않음)"
   ]
  },
  {
   "cell_type": "code",
   "execution_count": 71,
   "id": "a6ee09fa",
   "metadata": {},
   "outputs": [
    {
     "data": {
      "text/plain": [
       "array([ 112,  -34, -101,  -60,  -39,    1,    0,    0,    0,    0],\n",
       "      dtype=int8)"
      ]
     },
     "execution_count": 71,
     "metadata": {},
     "output_type": "execute_result"
    }
   ],
   "source": [
    "np.empty(shape=(10,), dtype=np.int8)"
   ]
  },
  {
   "cell_type": "code",
   "execution_count": 72,
   "id": "36164082",
   "metadata": {},
   "outputs": [
    {
     "data": {
      "text/plain": [
       "array([[0., 0., 0., 0., 0.],\n",
       "       [0., 0., 0., 0., 0.],\n",
       "       [0., 0., 0., 0., 0.]])"
      ]
     },
     "execution_count": 72,
     "metadata": {},
     "output_type": "execute_result"
    }
   ],
   "source": [
    "np.empty((3,5))"
   ]
  },
  {
   "cell_type": "markdown",
   "id": "bdcb9591",
   "metadata": {},
   "source": [
    "# something_like"
   ]
  },
  {
   "cell_type": "markdown",
   "id": "52739a71",
   "metadata": {},
   "source": [
    "- 기존 ndarray의 shape 크기 만큼 1, 0 또는 empty array를 반환"
   ]
  },
  {
   "cell_type": "code",
   "execution_count": 73,
   "id": "a27ab796",
   "metadata": {},
   "outputs": [
    {
     "data": {
      "text/plain": [
       "array([[1, 1, 1, 1, 1, 1],\n",
       "       [1, 1, 1, 1, 1, 1],\n",
       "       [1, 1, 1, 1, 1, 1],\n",
       "       [1, 1, 1, 1, 1, 1],\n",
       "       [1, 1, 1, 1, 1, 1]])"
      ]
     },
     "execution_count": 73,
     "metadata": {},
     "output_type": "execute_result"
    }
   ],
   "source": [
    "test_matrix = np.arange(30).reshape(5,6)\n",
    "np.ones_like(test_matrix)"
   ]
  },
  {
   "cell_type": "markdown",
   "id": "845fb3c3",
   "metadata": {},
   "source": [
    "# identity"
   ]
  },
  {
   "cell_type": "markdown",
   "id": "d23be1d9",
   "metadata": {},
   "source": [
    "- 단위 행렬(i 행렬)을 생성함"
   ]
  },
  {
   "cell_type": "code",
   "execution_count": 74,
   "id": "71fe945d",
   "metadata": {},
   "outputs": [
    {
     "data": {
      "text/plain": [
       "array([[1, 0, 0],\n",
       "       [0, 1, 0],\n",
       "       [0, 0, 1]], dtype=int8)"
      ]
     },
     "execution_count": 74,
     "metadata": {},
     "output_type": "execute_result"
    }
   ],
   "source": [
    "np.identity(n=3, dtype=np.int8)"
   ]
  },
  {
   "cell_type": "code",
   "execution_count": 75,
   "id": "4e42f88c",
   "metadata": {},
   "outputs": [
    {
     "data": {
      "text/plain": [
       "array([[1., 0., 0., 0., 0.],\n",
       "       [0., 1., 0., 0., 0.],\n",
       "       [0., 0., 1., 0., 0.],\n",
       "       [0., 0., 0., 1., 0.],\n",
       "       [0., 0., 0., 0., 1.]])"
      ]
     },
     "execution_count": 75,
     "metadata": {},
     "output_type": "execute_result"
    }
   ],
   "source": [
    "np.identity(5)"
   ]
  },
  {
   "cell_type": "markdown",
   "id": "1e481f32",
   "metadata": {},
   "source": [
    "# eye"
   ]
  },
  {
   "cell_type": "markdown",
   "id": "01bd8530",
   "metadata": {},
   "source": [
    "- 대각선인 1 인 행렬, k값의 시작 index의 변경이 가능"
   ]
  },
  {
   "cell_type": "code",
   "execution_count": 76,
   "id": "ea2f3d95",
   "metadata": {},
   "outputs": [
    {
     "data": {
      "text/plain": [
       "array([[1, 0, 0, 0, 0],\n",
       "       [0, 1, 0, 0, 0],\n",
       "       [0, 0, 1, 0, 0]], dtype=int8)"
      ]
     },
     "execution_count": 76,
     "metadata": {},
     "output_type": "execute_result"
    }
   ],
   "source": [
    "np.eye(N=3, M=5, dtype=np.int8)"
   ]
  },
  {
   "cell_type": "code",
   "execution_count": 77,
   "id": "bdbf461d",
   "metadata": {},
   "outputs": [
    {
     "data": {
      "text/plain": [
       "array([[1., 0., 0.],\n",
       "       [0., 1., 0.],\n",
       "       [0., 0., 1.]])"
      ]
     },
     "execution_count": 77,
     "metadata": {},
     "output_type": "execute_result"
    }
   ],
   "source": [
    "np.eye(3)"
   ]
  },
  {
   "cell_type": "code",
   "execution_count": 78,
   "id": "0f64c1a9",
   "metadata": {},
   "outputs": [
    {
     "data": {
      "text/plain": [
       "array([[0., 0., 1., 0., 0.],\n",
       "       [0., 0., 0., 1., 0.],\n",
       "       [0., 0., 0., 0., 1.]])"
      ]
     },
     "execution_count": 78,
     "metadata": {},
     "output_type": "execute_result"
    }
   ],
   "source": [
    "np.eye(3,5,k=2)  # k => start index"
   ]
  },
  {
   "cell_type": "markdown",
   "id": "41703aa4",
   "metadata": {},
   "source": [
    "# diag"
   ]
  },
  {
   "cell_type": "markdown",
   "id": "0545f5fb",
   "metadata": {},
   "source": [
    "- 대각 행렬의 값을 추출함"
   ]
  },
  {
   "cell_type": "code",
   "execution_count": 80,
   "id": "d58213a3",
   "metadata": {},
   "outputs": [
    {
     "data": {
      "text/plain": [
       "array([0, 4, 8])"
      ]
     },
     "execution_count": 80,
     "metadata": {},
     "output_type": "execute_result"
    }
   ],
   "source": [
    "matrix = np.arange(9).reshape(3,3)\n",
    "np.diag(matrix)"
   ]
  },
  {
   "cell_type": "code",
   "execution_count": 81,
   "id": "5e929237",
   "metadata": {},
   "outputs": [
    {
     "data": {
      "text/plain": [
       "array([1, 5])"
      ]
     },
     "execution_count": 81,
     "metadata": {},
     "output_type": "execute_result"
    }
   ],
   "source": [
    "np.diag(matrix, k=1)  # k -> start index"
   ]
  },
  {
   "cell_type": "markdown",
   "id": "f23b747e",
   "metadata": {},
   "source": [
    "# random sampling"
   ]
  },
  {
   "cell_type": "code",
   "execution_count": 82,
   "id": "1abaa4ff",
   "metadata": {},
   "outputs": [
    {
     "data": {
      "text/plain": [
       "array([[0.23736599, 0.71434555, 0.13060837, 0.00880033, 0.67783727],\n",
       "       [0.55450099, 0.07704784, 0.54416137, 0.7690508 , 0.62101482]])"
      ]
     },
     "execution_count": 82,
     "metadata": {},
     "output_type": "execute_result"
    }
   ],
   "source": [
    "np.random.uniform(0,1,10).reshape(2,5)  # 균등분포"
   ]
  },
  {
   "cell_type": "code",
   "execution_count": 83,
   "id": "5b63a17c",
   "metadata": {},
   "outputs": [
    {
     "data": {
      "text/plain": [
       "array([[ 9.64075579e-01, -1.59857501e-01,  4.37697156e-04,\n",
       "         1.06441794e+00,  9.05543501e-01],\n",
       "       [ 1.75106532e+00, -1.80222612e+00, -8.25015076e-01,\n",
       "        -4.96893560e-01, -1.68645881e+00]])"
      ]
     },
     "execution_count": 83,
     "metadata": {},
     "output_type": "execute_result"
    }
   ],
   "source": [
    "np.random.normal(0,1,10).reshape(2,5)  #정규분포"
   ]
  },
  {
   "cell_type": "markdown",
   "id": "43bca926",
   "metadata": {},
   "source": []
  },
  {
   "cell_type": "markdown",
   "id": "9dcc729f",
   "metadata": {},
   "source": [
    "# sum"
   ]
  },
  {
   "cell_type": "markdown",
   "id": "04075f5e",
   "metadata": {},
   "source": [
    "- ndarray 의 element 들 간의 합을 구함, list의 sum 기능과 동일"
   ]
  },
  {
   "cell_type": "code",
   "execution_count": 84,
   "id": "87d16e04",
   "metadata": {},
   "outputs": [
    {
     "data": {
      "text/plain": [
       "array([ 1,  2,  3,  4,  5,  6,  7,  8,  9, 10])"
      ]
     },
     "execution_count": 84,
     "metadata": {},
     "output_type": "execute_result"
    }
   ],
   "source": [
    "test_array = np.arange(1,11)\n",
    "test_array"
   ]
  },
  {
   "cell_type": "code",
   "execution_count": 87,
   "id": "5e33fc02",
   "metadata": {},
   "outputs": [
    {
     "name": "stderr",
     "output_type": "stream",
     "text": [
      "C:\\Users\\BAEKJI~1\\AppData\\Local\\Temp/ipykernel_16244/3740136754.py:1: DeprecationWarning: `np.float` is a deprecated alias for the builtin `float`. To silence this warning, use `float` by itself. Doing this will not modify any behavior and is safe. If you specifically wanted the numpy scalar type, use `np.float64` here.\n",
      "Deprecated in NumPy 1.20; for more details and guidance: https://numpy.org/devdocs/release/1.20.0-notes.html#deprecations\n",
      "  test_array.sum(dtype=np.float)\n"
     ]
    },
    {
     "data": {
      "text/plain": [
       "55.0"
      ]
     },
     "execution_count": 87,
     "metadata": {},
     "output_type": "execute_result"
    }
   ],
   "source": [
    "test_array.sum(dtype=np.float)"
   ]
  },
  {
   "cell_type": "markdown",
   "id": "2eeead64",
   "metadata": {},
   "source": [
    "# axis"
   ]
  },
  {
   "cell_type": "markdown",
   "id": "eb07c626",
   "metadata": {},
   "source": [
    "- 모든 operation function 을 실행할 때,기준이 되는 dimension 축"
   ]
  },
  {
   "cell_type": "code",
   "execution_count": 88,
   "id": "42f0089d",
   "metadata": {},
   "outputs": [
    {
     "data": {
      "text/plain": [
       "array([[ 1,  2,  3,  4],\n",
       "       [ 5,  6,  7,  8],\n",
       "       [ 9, 10, 11, 12]])"
      ]
     },
     "execution_count": 88,
     "metadata": {},
     "output_type": "execute_result"
    }
   ],
   "source": [
    "test_array = np.arange(1,13).reshape(3,4)\n",
    "test_array"
   ]
  },
  {
   "cell_type": "code",
   "execution_count": 89,
   "id": "5217e6eb",
   "metadata": {},
   "outputs": [
    {
     "data": {
      "text/plain": [
       "(array([10, 26, 42]), array([15, 18, 21, 24]))"
      ]
     },
     "execution_count": 89,
     "metadata": {},
     "output_type": "execute_result"
    }
   ],
   "source": [
    "test_array.sum(axis=1), test_array.sum(axis=0)"
   ]
  },
  {
   "cell_type": "code",
   "execution_count": 90,
   "id": "4cc2ffc7",
   "metadata": {},
   "outputs": [
    {
     "data": {
      "text/plain": [
       "array([[[ 1,  2,  3,  4],\n",
       "        [ 5,  6,  7,  8],\n",
       "        [ 9, 10, 11, 12]],\n",
       "\n",
       "       [[ 1,  2,  3,  4],\n",
       "        [ 5,  6,  7,  8],\n",
       "        [ 9, 10, 11, 12]],\n",
       "\n",
       "       [[ 1,  2,  3,  4],\n",
       "        [ 5,  6,  7,  8],\n",
       "        [ 9, 10, 11, 12]]])"
      ]
     },
     "execution_count": 90,
     "metadata": {},
     "output_type": "execute_result"
    }
   ],
   "source": [
    "third_order_tensor = np.array([test_array, test_array, test_array])\n",
    "third_order_tensor"
   ]
  },
  {
   "cell_type": "code",
   "execution_count": 91,
   "id": "4018d371",
   "metadata": {},
   "outputs": [
    {
     "data": {
      "text/plain": [
       "array([[10, 26, 42],\n",
       "       [10, 26, 42],\n",
       "       [10, 26, 42]])"
      ]
     },
     "execution_count": 91,
     "metadata": {},
     "output_type": "execute_result"
    }
   ],
   "source": [
    "third_order_tensor.sum(axis=2)"
   ]
  },
  {
   "cell_type": "code",
   "execution_count": 92,
   "id": "6c40f572",
   "metadata": {},
   "outputs": [
    {
     "data": {
      "text/plain": [
       "array([[15, 18, 21, 24],\n",
       "       [15, 18, 21, 24],\n",
       "       [15, 18, 21, 24]])"
      ]
     },
     "execution_count": 92,
     "metadata": {},
     "output_type": "execute_result"
    }
   ],
   "source": [
    "third_order_tensor.sum(axis=1)"
   ]
  },
  {
   "cell_type": "code",
   "execution_count": 93,
   "id": "e5275fde",
   "metadata": {},
   "outputs": [
    {
     "data": {
      "text/plain": [
       "array([[ 3,  6,  9, 12],\n",
       "       [15, 18, 21, 24],\n",
       "       [27, 30, 33, 36]])"
      ]
     },
     "execution_count": 93,
     "metadata": {},
     "output_type": "execute_result"
    }
   ],
   "source": [
    "third_order_tensor.sum(axis=0)"
   ]
  },
  {
   "cell_type": "markdown",
   "id": "043d204b",
   "metadata": {},
   "source": [
    "# mean & std"
   ]
  },
  {
   "cell_type": "markdown",
   "id": "9b6ff547",
   "metadata": {},
   "source": [
    " - ndarray의 element들 간의 평균 또는 표준 편차를 반환"
   ]
  },
  {
   "cell_type": "code",
   "execution_count": 94,
   "id": "53567bb3",
   "metadata": {},
   "outputs": [
    {
     "data": {
      "text/plain": [
       "array([[ 1,  2,  3,  4],\n",
       "       [ 5,  6,  7,  8],\n",
       "       [ 9, 10, 11, 12]])"
      ]
     },
     "execution_count": 94,
     "metadata": {},
     "output_type": "execute_result"
    }
   ],
   "source": [
    "test_array = np.arange(1,13).reshape(3,4)\n",
    "test_array"
   ]
  },
  {
   "cell_type": "code",
   "execution_count": 96,
   "id": "db8f81de",
   "metadata": {},
   "outputs": [
    {
     "data": {
      "text/plain": [
       "(6.5, array([5., 6., 7., 8.]))"
      ]
     },
     "execution_count": 96,
     "metadata": {},
     "output_type": "execute_result"
    }
   ],
   "source": [
    "test_array.mean(), test_array.mean(axis=0)"
   ]
  },
  {
   "cell_type": "code",
   "execution_count": 97,
   "id": "679e46b5",
   "metadata": {},
   "outputs": [
    {
     "data": {
      "text/plain": [
       "(3.452052529534663, array([3.26598632, 3.26598632, 3.26598632, 3.26598632]))"
      ]
     },
     "execution_count": 97,
     "metadata": {},
     "output_type": "execute_result"
    }
   ],
   "source": [
    "test_array.std(), test_array.std(axis=0)"
   ]
  },
  {
   "cell_type": "markdown",
   "id": "c315e745",
   "metadata": {},
   "source": [
    "# Mathematical functions"
   ]
  },
  {
   "cell_type": "code",
   "execution_count": 98,
   "id": "9ff7ec98",
   "metadata": {},
   "outputs": [
    {
     "data": {
      "text/plain": [
       "(array([[2.71828183e+00, 7.38905610e+00, 2.00855369e+01, 5.45981500e+01],\n",
       "        [1.48413159e+02, 4.03428793e+02, 1.09663316e+03, 2.98095799e+03],\n",
       "        [8.10308393e+03, 2.20264658e+04, 5.98741417e+04, 1.62754791e+05]]),\n",
       " array([[1.        , 1.41421356, 1.73205081, 2.        ],\n",
       "        [2.23606798, 2.44948974, 2.64575131, 2.82842712],\n",
       "        [3.        , 3.16227766, 3.31662479, 3.46410162]]))"
      ]
     },
     "execution_count": 98,
     "metadata": {},
     "output_type": "execute_result"
    }
   ],
   "source": [
    "np.exp(test_array), np.sqrt(test_array)"
   ]
  },
  {
   "cell_type": "markdown",
   "id": "9ce45cb0",
   "metadata": {},
   "source": [
    "# concatenate"
   ]
  },
  {
   "cell_type": "markdown",
   "id": "d0be9275",
   "metadata": {},
   "source": [
    "- Numpy array 를 합치는 함수"
   ]
  },
  {
   "cell_type": "code",
   "execution_count": 99,
   "id": "923da77c",
   "metadata": {},
   "outputs": [
    {
     "data": {
      "text/plain": [
       "array([[1, 2, 3],\n",
       "       [2, 3, 4]])"
      ]
     },
     "execution_count": 99,
     "metadata": {},
     "output_type": "execute_result"
    }
   ],
   "source": [
    "a = np.array([1, 2, 3])\n",
    "b = np.array([2, 3, 4])\n",
    "np.vstack((a,b))"
   ]
  },
  {
   "cell_type": "code",
   "execution_count": 100,
   "id": "bd929f60",
   "metadata": {},
   "outputs": [
    {
     "data": {
      "text/plain": [
       "array([[1, 2],\n",
       "       [2, 3],\n",
       "       [3, 4]])"
      ]
     },
     "execution_count": 100,
     "metadata": {},
     "output_type": "execute_result"
    }
   ],
   "source": [
    "a = np.array([ [1], [2], [3]])\n",
    "b = np.array([ [2], [3], [4]])\n",
    "np.hstack((a,b))"
   ]
  },
  {
   "cell_type": "code",
   "execution_count": 102,
   "id": "0390b898",
   "metadata": {},
   "outputs": [
    {
     "data": {
      "text/plain": [
       "array([[1],\n",
       "       [2],\n",
       "       [3],\n",
       "       [2],\n",
       "       [3],\n",
       "       [4]])"
      ]
     },
     "execution_count": 102,
     "metadata": {},
     "output_type": "execute_result"
    }
   ],
   "source": [
    "a = np.arra = np.array([ [1], [2], [3]])\n",
    "b = np.array([ [2], [3], [4]])\n",
    "np.concatenate( (a,b) , axis=0)"
   ]
  },
  {
   "cell_type": "code",
   "execution_count": 103,
   "id": "7224fa3d",
   "metadata": {},
   "outputs": [
    {
     "data": {
      "text/plain": [
       "array([[1, 2, 5],\n",
       "       [3, 4, 6]])"
      ]
     },
     "execution_count": 103,
     "metadata": {},
     "output_type": "execute_result"
    }
   ],
   "source": [
    "a = np.array([ [1, 2], [3, 4]])\n",
    "b = np.array([[5, 6]])\n",
    "np.concatenate( (a,b.T) , axis=1)"
   ]
  },
  {
   "cell_type": "markdown",
   "id": "0cadb312",
   "metadata": {},
   "source": [
    "# Array operations"
   ]
  },
  {
   "cell_type": "markdown",
   "id": "f63d7d0b",
   "metadata": {},
   "source": [
    "Operations b/t arrays\n",
    "- Numpy는 array간의 기본적인 사칙 연산을 지원함"
   ]
  },
  {
   "cell_type": "code",
   "execution_count": 3,
   "id": "347544f0",
   "metadata": {},
   "outputs": [],
   "source": [
    "test_a = np.array([[1,2,3],[4,5,6]], float)"
   ]
  },
  {
   "cell_type": "code",
   "execution_count": 4,
   "id": "0effe2ed",
   "metadata": {},
   "outputs": [
    {
     "data": {
      "text/plain": [
       "array([[ 2.,  4.,  6.],\n",
       "       [ 8., 10., 12.]])"
      ]
     },
     "execution_count": 4,
     "metadata": {},
     "output_type": "execute_result"
    }
   ],
   "source": [
    "test_a + test_a # Matrix + Matrix 연산"
   ]
  },
  {
   "cell_type": "code",
   "execution_count": 5,
   "id": "9337e0f8",
   "metadata": {},
   "outputs": [
    {
     "data": {
      "text/plain": [
       "array([[0., 0., 0.],\n",
       "       [0., 0., 0.]])"
      ]
     },
     "execution_count": 5,
     "metadata": {},
     "output_type": "execute_result"
    }
   ],
   "source": [
    "test_a - test_a  # Matrix - Matrix 연산"
   ]
  },
  {
   "cell_type": "code",
   "execution_count": 6,
   "id": "95634f3f",
   "metadata": {},
   "outputs": [
    {
     "data": {
      "text/plain": [
       "array([[ 1.,  4.,  9.],\n",
       "       [16., 25., 36.]])"
      ]
     },
     "execution_count": 6,
     "metadata": {},
     "output_type": "execute_result"
    }
   ],
   "source": [
    "test_a * test_a # Matrix내 element들 간 같은 위치에 있는 값들끼리 연산"
   ]
  },
  {
   "cell_type": "markdown",
   "id": "03937b8c",
   "metadata": {},
   "source": [
    "element-wise operations\n",
    "- Array간 shape이 같을 때 일어나는 연산"
   ]
  },
  {
   "cell_type": "code",
   "execution_count": 8,
   "id": "d2a300fe",
   "metadata": {},
   "outputs": [
    {
     "data": {
      "text/plain": [
       "array([[  1,   4,   9,  16],\n",
       "       [ 25,  36,  49,  64],\n",
       "       [ 81, 100, 121, 144]])"
      ]
     },
     "execution_count": 8,
     "metadata": {},
     "output_type": "execute_result"
    }
   ],
   "source": [
    "matrix_a = np.arange(1, 13).reshape(3,4)\n",
    "matrix_a * matrix_a"
   ]
  },
  {
   "cell_type": "markdown",
   "id": "eea7dc68",
   "metadata": {},
   "source": [
    "# Dot product"
   ]
  },
  {
   "cell_type": "markdown",
   "id": "502b0b02",
   "metadata": {},
   "source": [
    "- Matrix의 기본 연산\n",
    "- dot 함수 사용"
   ]
  },
  {
   "cell_type": "code",
   "execution_count": 9,
   "id": "8e7f9d51",
   "metadata": {},
   "outputs": [
    {
     "data": {
      "text/plain": [
       "array([[ 58,  64],\n",
       "       [139, 154]])"
      ]
     },
     "execution_count": 9,
     "metadata": {},
     "output_type": "execute_result"
    }
   ],
   "source": [
    "test_a = np.arange(1,7).reshape(2,3)\n",
    "test_b = np.arange(7, 13).reshape(3,2)\n",
    "test_a.dot(test_b)"
   ]
  },
  {
   "cell_type": "markdown",
   "id": "9342fc8c",
   "metadata": {},
   "source": [
    "# Transpose"
   ]
  },
  {
   "cell_type": "markdown",
   "id": "8569cc16",
   "metadata": {},
   "source": [
    "- transpose 또는 T attribute 사용"
   ]
  },
  {
   "cell_type": "code",
   "execution_count": 10,
   "id": "b72b6c58",
   "metadata": {},
   "outputs": [
    {
     "data": {
      "text/plain": [
       "array([[1, 2, 3],\n",
       "       [4, 5, 6]])"
      ]
     },
     "execution_count": 10,
     "metadata": {},
     "output_type": "execute_result"
    }
   ],
   "source": [
    "test_a = np.arange(1,7).reshape(2,3)\n",
    "test_a"
   ]
  },
  {
   "cell_type": "code",
   "execution_count": 12,
   "id": "73d37ca7",
   "metadata": {},
   "outputs": [
    {
     "data": {
      "text/plain": [
       "array([[1, 4],\n",
       "       [2, 5],\n",
       "       [3, 6]])"
      ]
     },
     "execution_count": 12,
     "metadata": {},
     "output_type": "execute_result"
    }
   ],
   "source": [
    "test_a.transpose()"
   ]
  },
  {
   "cell_type": "code",
   "execution_count": 13,
   "id": "a19f2e82",
   "metadata": {},
   "outputs": [
    {
     "data": {
      "text/plain": [
       "array([[1, 4],\n",
       "       [2, 5],\n",
       "       [3, 6]])"
      ]
     },
     "execution_count": 13,
     "metadata": {},
     "output_type": "execute_result"
    }
   ],
   "source": [
    "test_a.T"
   ]
  },
  {
   "cell_type": "code",
   "execution_count": 11,
   "id": "ab9e9ca6",
   "metadata": {},
   "outputs": [
    {
     "data": {
      "text/plain": [
       "array([[17, 22, 27],\n",
       "       [22, 29, 36],\n",
       "       [27, 36, 45]])"
      ]
     },
     "execution_count": 11,
     "metadata": {},
     "output_type": "execute_result"
    }
   ],
   "source": [
    "test_a.T.dot(test_a) # Matrix 간 곱셈"
   ]
  },
  {
   "cell_type": "markdown",
   "id": "4769169d",
   "metadata": {},
   "source": [
    "# broadcasting"
   ]
  },
  {
   "cell_type": "markdown",
   "id": "10d1c2a8",
   "metadata": {},
   "source": [
    "    - Shape 이 다른 배열 간 연산을 지원하는 기능"
   ]
  },
  {
   "cell_type": "markdown",
   "id": "2d3d53ee",
   "metadata": {},
   "source": [
    "    - Scalar-vector 외에도 vector-matrix 간의 연산도 지원"
   ]
  },
  {
   "cell_type": "code",
   "execution_count": 3,
   "id": "65020a4c",
   "metadata": {},
   "outputs": [],
   "source": [
    "test_matrix = np.array([[1,2,3],[4,5,6]], float)\n",
    "scalar = 3"
   ]
  },
  {
   "cell_type": "code",
   "execution_count": 4,
   "id": "d1c89770",
   "metadata": {},
   "outputs": [
    {
     "data": {
      "text/plain": [
       "array([[4., 5., 6.],\n",
       "       [7., 8., 9.]])"
      ]
     },
     "execution_count": 4,
     "metadata": {},
     "output_type": "execute_result"
    }
   ],
   "source": [
    "test_matrix + scalar # Matrix + Scalar 덧셈"
   ]
  },
  {
   "cell_type": "code",
   "execution_count": 6,
   "id": "be1c4cd1",
   "metadata": {},
   "outputs": [
    {
     "data": {
      "text/plain": [
       "array([[-2., -1.,  0.],\n",
       "       [ 1.,  2.,  3.]])"
      ]
     },
     "execution_count": 6,
     "metadata": {},
     "output_type": "execute_result"
    }
   ],
   "source": [
    "test_matrix - scalar # Matrix - Scalar 덧셈"
   ]
  },
  {
   "cell_type": "code",
   "execution_count": 7,
   "id": "c3bc8798",
   "metadata": {},
   "outputs": [
    {
     "data": {
      "text/plain": [
       "array([[ 5., 10., 15.],\n",
       "       [20., 25., 30.]])"
      ]
     },
     "execution_count": 7,
     "metadata": {},
     "output_type": "execute_result"
    }
   ],
   "source": [
    "test_matrix * 5 # Matrix - Scalar 곱셈"
   ]
  },
  {
   "cell_type": "code",
   "execution_count": 8,
   "id": "e1a8e782",
   "metadata": {},
   "outputs": [
    {
     "data": {
      "text/plain": [
       "array([[0.2, 0.4, 0.6],\n",
       "       [0.8, 1. , 1.2]])"
      ]
     },
     "execution_count": 8,
     "metadata": {},
     "output_type": "execute_result"
    }
   ],
   "source": [
    "test_matrix / 5 # Matrix - Scalar 나눗셈"
   ]
  },
  {
   "cell_type": "code",
   "execution_count": 9,
   "id": "37e8fc14",
   "metadata": {},
   "outputs": [
    {
     "data": {
      "text/plain": [
       "array([[ 4.,  9., 14.],\n",
       "       [19., 24., 29.]])"
      ]
     },
     "execution_count": 9,
     "metadata": {},
     "output_type": "execute_result"
    }
   ],
   "source": [
    "test_matrix // 0.2  # Matrix - Scalar 몫"
   ]
  },
  {
   "cell_type": "code",
   "execution_count": 10,
   "id": "093183b9",
   "metadata": {},
   "outputs": [
    {
     "data": {
      "text/plain": [
       "array([[ 1.,  4.,  9.],\n",
       "       [16., 25., 36.]])"
      ]
     },
     "execution_count": 10,
     "metadata": {},
     "output_type": "execute_result"
    }
   ],
   "source": [
    "test_matrix ** 2 # Matrix - Scalar 제곱"
   ]
  },
  {
   "cell_type": "code",
   "execution_count": 12,
   "id": "a253b50b",
   "metadata": {},
   "outputs": [
    {
     "data": {
      "text/plain": [
       "array([[11, 22, 33],\n",
       "       [14, 25, 36],\n",
       "       [17, 28, 39],\n",
       "       [20, 31, 42]])"
      ]
     },
     "execution_count": 12,
     "metadata": {},
     "output_type": "execute_result"
    }
   ],
   "source": [
    "test_matrix = np.arange(1,13).reshape(4,3)\n",
    "test_vector = np.arange(10, 40, 10)\n",
    "test_matrix + test_vector"
   ]
  },
  {
   "cell_type": "markdown",
   "id": "23a80cf0",
   "metadata": {},
   "source": [
    "# Numpy performance #1"
   ]
  },
  {
   "cell_type": "code",
   "execution_count": 13,
   "id": "eb58e0d8",
   "metadata": {},
   "outputs": [
    {
     "ename": "SyntaxError",
     "evalue": "invalid syntax (Temp/ipykernel_19836/1151484978.py, line 1)",
     "output_type": "error",
     "traceback": [
      "\u001b[1;36m  File \u001b[1;32m\"C:\\Users\\BAEKJI~1\\AppData\\Local\\Temp/ipykernel_19836/1151484978.py\"\u001b[1;36m, line \u001b[1;32m1\u001b[0m\n\u001b[1;33m    def sclar vector_product(scalar, vector):\u001b[0m\n\u001b[1;37m              ^\u001b[0m\n\u001b[1;31mSyntaxError\u001b[0m\u001b[1;31m:\u001b[0m invalid syntax\n"
     ]
    }
   ],
   "source": [
    "def sclar vector_product(scalar, vector):\n",
    "    result = []\n",
    "    for value in vector:\n",
    "        result.append(scalar * value)\n",
    "    return result\n",
    "\n",
    "iternation_max = 10000000\n",
    "\n",
    "vector = list(range(iternation_max))\n",
    "sclar = 2\n",
    "\n",
    "%timeit scalr vector product(scalar, vector)  # for loop을 이용한 성능\n",
    "%timeit [sclar * value for value in range(iternation_max)]  #list comprhension을 ㅣ이용한 성능\n",
    "%timeit np.arange(iternation_max) * scalar  # numpy를 이용한 성능"
   ]
  },
  {
   "cell_type": "code",
   "execution_count": 14,
   "id": "a956ac37",
   "metadata": {},
   "outputs": [
    {
     "ename": "IndentationError",
     "evalue": "expected an indented block (Temp/ipykernel_19836/2435834398.py, line 4)",
     "output_type": "error",
     "traceback": [
      "\u001b[1;36m  File \u001b[1;32m\"C:\\Users\\BAEKJI~1\\AppData\\Local\\Temp/ipykernel_19836/2435834398.py\"\u001b[1;36m, line \u001b[1;32m4\u001b[0m\n\u001b[1;33m    result.append(scalar * value)\u001b[0m\n\u001b[1;37m    ^\u001b[0m\n\u001b[1;31mIndentationError\u001b[0m\u001b[1;31m:\u001b[0m expected an indented block\n"
     ]
    }
   ],
   "source": [
    "def sclar_vector_product(scalar, vector):\n",
    " result = []\n",
    " for value in vector:\n",
    " result.append(scalar * value)\n",
    " return result \n",
    "iternation_max = 100000000\n",
    "vector = list(range(iternation_max))\n",
    "scalar = 2\n",
    "%timeit sclar_vector_product(scalar, vector) # for loop을 이용한 성능\n",
    "%timeit [scalar * value for value in range(iternation_max)] # list comprehension을 이용한 성능\n",
    "%timeit np.arange(iternation_max) * scalar # numpy를 이용한 성능"
   ]
  },
  {
   "cell_type": "markdown",
   "id": "530eaba8",
   "metadata": {},
   "source": [
    "# comparisons"
   ]
  },
  {
   "cell_type": "raw",
   "id": "d5a9f7f0",
   "metadata": {},
   "source": []
  },
  {
   "cell_type": "markdown",
   "id": "debd3615",
   "metadata": {},
   "source": [
    "# All & Any"
   ]
  },
  {
   "cell_type": "markdown",
   "id": "b9993924",
   "metadata": {},
   "source": [
    "- Array의 데이터 전부(and) 또는 일부(or)가 조건에 만족 여부 반환"
   ]
  },
  {
   "cell_type": "code",
   "execution_count": 16,
   "id": "0a8a49f1",
   "metadata": {},
   "outputs": [
    {
     "data": {
      "text/plain": [
       "array([0, 1, 2, 3, 4, 5, 6, 7, 8, 9])"
      ]
     },
     "execution_count": 16,
     "metadata": {},
     "output_type": "execute_result"
    }
   ],
   "source": [
    "a = np.arange(10)\n",
    "a"
   ]
  },
  {
   "cell_type": "code",
   "execution_count": 17,
   "id": "4f6d18e1",
   "metadata": {},
   "outputs": [
    {
     "data": {
      "text/plain": [
       "(True, False)"
      ]
     },
     "execution_count": 17,
     "metadata": {},
     "output_type": "execute_result"
    }
   ],
   "source": [
    "np.any(a>5), np.any(a<0)  # any -> 하나라도 조건에 만족한다면 true"
   ]
  },
  {
   "cell_type": "code",
   "execution_count": 18,
   "id": "942a5024",
   "metadata": {},
   "outputs": [
    {
     "data": {
      "text/plain": [
       "(False, True)"
      ]
     },
     "execution_count": 18,
     "metadata": {},
     "output_type": "execute_result"
    }
   ],
   "source": [
    "np.all(a>5), np.all(a<10)  # all -> 모두가 조건에 만족한다면 true"
   ]
  },
  {
   "cell_type": "markdown",
   "id": "b7b39ecc",
   "metadata": {},
   "source": [
    "# Comparison operation #1"
   ]
  },
  {
   "cell_type": "markdown",
   "id": "86a2f7aa",
   "metadata": {},
   "source": [
    "- Numpy는 배열의 크기가 동일 할 때 element간 비교의 결과를 Boolean type으로 반환하여 돌려줌"
   ]
  },
  {
   "cell_type": "code",
   "execution_count": 19,
   "id": "a9131a1f",
   "metadata": {},
   "outputs": [
    {
     "data": {
      "text/plain": [
       "array([False,  True, False])"
      ]
     },
     "execution_count": 19,
     "metadata": {},
     "output_type": "execute_result"
    }
   ],
   "source": [
    "test_a = np.array([1,3,0], float)\n",
    "test_b = np.array([5,2,1], float)\n",
    "test_a > test_b"
   ]
  },
  {
   "cell_type": "code",
   "execution_count": 20,
   "id": "8eb7fd56",
   "metadata": {},
   "outputs": [
    {
     "data": {
      "text/plain": [
       "array([False, False, False])"
      ]
     },
     "execution_count": 20,
     "metadata": {},
     "output_type": "execute_result"
    }
   ],
   "source": [
    "test_a == test_b"
   ]
  },
  {
   "cell_type": "code",
   "execution_count": 22,
   "id": "d074e2b1",
   "metadata": {},
   "outputs": [
    {
     "data": {
      "text/plain": [
       "True"
      ]
     },
     "execution_count": 22,
     "metadata": {},
     "output_type": "execute_result"
    }
   ],
   "source": [
    "(test_a > test_b).any()  # any -> 하나리도 true라면 true"
   ]
  },
  {
   "cell_type": "markdown",
   "id": "50245235",
   "metadata": {},
   "source": [
    "# Comparison operation #2"
   ]
  },
  {
   "cell_type": "code",
   "execution_count": 23,
   "id": "9e4482f6",
   "metadata": {},
   "outputs": [
    {
     "data": {
      "text/plain": [
       "array([ True, False, False])"
      ]
     },
     "execution_count": 23,
     "metadata": {},
     "output_type": "execute_result"
    }
   ],
   "source": [
    "a = np.array([1, 3, 0], float)\n",
    "np.logical_and(a>0, a<3) # and 조건의 condition"
   ]
  },
  {
   "cell_type": "code",
   "execution_count": 24,
   "id": "6ad2a6e1",
   "metadata": {},
   "outputs": [
    {
     "data": {
      "text/plain": [
       "array([False,  True, False])"
      ]
     },
     "execution_count": 24,
     "metadata": {},
     "output_type": "execute_result"
    }
   ],
   "source": [
    "b = np.array([True, False, True], bool)\n",
    "np.logical_not(b)  # NOT 조건의 condition"
   ]
  },
  {
   "cell_type": "code",
   "execution_count": 25,
   "id": "150a3644",
   "metadata": {},
   "outputs": [
    {
     "data": {
      "text/plain": [
       "array([ True,  True,  True])"
      ]
     },
     "execution_count": 25,
     "metadata": {},
     "output_type": "execute_result"
    }
   ],
   "source": [
    "c = np.array([False, True, False], bool)\n",
    "np.logical_or(b, c) # OR 조건의 condition"
   ]
  },
  {
   "cell_type": "markdown",
   "id": "0f708523",
   "metadata": {},
   "source": [
    "# np.where"
   ]
  },
  {
   "cell_type": "code",
   "execution_count": 26,
   "id": "3489ff1e",
   "metadata": {},
   "outputs": [
    {
     "data": {
      "text/plain": [
       "array([3, 3, 2])"
      ]
     },
     "execution_count": 26,
     "metadata": {},
     "output_type": "execute_result"
    }
   ],
   "source": [
    "np.where(a > 0, 3, 2) # where(condition, True, FALSE)"
   ]
  },
  {
   "cell_type": "code",
   "execution_count": 27,
   "id": "f4ca7fa5",
   "metadata": {},
   "outputs": [
    {
     "data": {
      "text/plain": [
       "(array([6, 7, 8, 9], dtype=int64),)"
      ]
     },
     "execution_count": 27,
     "metadata": {},
     "output_type": "execute_result"
    }
   ],
   "source": [
    "a = np.arange(10)\n",
    "np.where(a>5)  # Index 값 반환"
   ]
  },
  {
   "cell_type": "code",
   "execution_count": 29,
   "id": "7f11be76",
   "metadata": {},
   "outputs": [
    {
     "data": {
      "text/plain": [
       "array([False,  True, False])"
      ]
     },
     "execution_count": 29,
     "metadata": {},
     "output_type": "execute_result"
    }
   ],
   "source": [
    "a = np.array([1, np.NaN, np.Inf], float)\n",
    "np.isnan(a)  # Nor a Number"
   ]
  },
  {
   "cell_type": "code",
   "execution_count": 30,
   "id": "f4db2ee7",
   "metadata": {},
   "outputs": [
    {
     "data": {
      "text/plain": [
       "array([ True, False, False])"
      ]
     },
     "execution_count": 30,
     "metadata": {},
     "output_type": "execute_result"
    }
   ],
   "source": [
    "np.isfinite(a) "
   ]
  },
  {
   "cell_type": "markdown",
   "id": "cceeb1be",
   "metadata": {},
   "source": [
    "# argmax & argmin"
   ]
  },
  {
   "cell_type": "markdown",
   "id": "275409a5",
   "metadata": {},
   "source": [
    "- array내 최대값 또는 최소값의 index를 반환함"
   ]
  },
  {
   "cell_type": "code",
   "execution_count": 4,
   "id": "88c138b6",
   "metadata": {},
   "outputs": [
    {
     "data": {
      "text/plain": [
       "(5, 0)"
      ]
     },
     "execution_count": 4,
     "metadata": {},
     "output_type": "execute_result"
    }
   ],
   "source": [
    "a = np.array([1,2,4,5,8,78,23,3])\n",
    "np.argmax(a), np.argmin(a)"
   ]
  },
  {
   "cell_type": "markdown",
   "id": "8e2d7c8e",
   "metadata": {},
   "source": [
    "- axis 기반의 반환"
   ]
  },
  {
   "cell_type": "code",
   "execution_count": 5,
   "id": "37cc1f0c",
   "metadata": {},
   "outputs": [
    {
     "data": {
      "text/plain": [
       "(array([3, 1, 1], dtype=int64), array([0, 0, 2, 2], dtype=int64))"
      ]
     },
     "execution_count": 5,
     "metadata": {},
     "output_type": "execute_result"
    }
   ],
   "source": [
    "a = np.array([[1,2,4,7],[9,88,6,45],[9,76,3,4]])\n",
    "np.argmax(a, axis=1), np.argmin(a, axis=0)"
   ]
  },
  {
   "cell_type": "markdown",
   "id": "1217d789",
   "metadata": {},
   "source": [
    "# boolean & fancy index"
   ]
  },
  {
   "cell_type": "markdown",
   "id": "14c71ca3",
   "metadata": {},
   "source": [
    "boolean index  \n",
    "- numpy는 배열의 특정 조건에 따른 값을 배열 형태로 추출할 수 있음.\n",
    "- Comparison operation 함수들도 모두 사용 가능"
   ]
  },
  {
   "cell_type": "code",
   "execution_count": 6,
   "id": "4e0597a0",
   "metadata": {},
   "outputs": [
    {
     "data": {
      "text/plain": [
       "array([False,  True, False, False, False,  True,  True,  True])"
      ]
     },
     "execution_count": 6,
     "metadata": {},
     "output_type": "execute_result"
    }
   ],
   "source": [
    "test_array = np.array([1,4,0,2,3,8,9,7], float)\n",
    "test_array > 3"
   ]
  },
  {
   "cell_type": "code",
   "execution_count": 8,
   "id": "0bce6f70",
   "metadata": {},
   "outputs": [
    {
     "data": {
      "text/plain": [
       "array([4., 8., 9., 7.])"
      ]
     },
     "execution_count": 8,
     "metadata": {},
     "output_type": "execute_result"
    }
   ],
   "source": [
    "test_array[test_array > 3]   # 조건이 True인 index의 element만 추출"
   ]
  },
  {
   "cell_type": "code",
   "execution_count": 10,
   "id": "9cf323de",
   "metadata": {},
   "outputs": [
    {
     "data": {
      "text/plain": [
       "array([1., 0., 2.])"
      ]
     },
     "execution_count": 10,
     "metadata": {},
     "output_type": "execute_result"
    }
   ],
   "source": [
    "condition = test_array < 3\n",
    "test_array[condition]"
   ]
  },
  {
   "cell_type": "markdown",
   "id": "e56345dc",
   "metadata": {},
   "source": [
    "fancy index\n",
    "- numpy는 array를 index value로 사용해서 값을 추출하는 방법"
   ]
  },
  {
   "cell_type": "code",
   "execution_count": 11,
   "id": "9f66b70b",
   "metadata": {},
   "outputs": [
    {
     "data": {
      "text/plain": [
       "array([2., 2., 4., 8., 6., 4.])"
      ]
     },
     "execution_count": 11,
     "metadata": {},
     "output_type": "execute_result"
    }
   ],
   "source": [
    "a = np.array([2,4,6,8], float)\n",
    "b = np.array([0,0,1,3,2,1], int)  # 반드시 integer로 선언\n",
    "a[b]  #bracket index, b 배열의 값을 index로 하여 a의 값들을 추출함"
   ]
  },
  {
   "cell_type": "code",
   "execution_count": 12,
   "id": "147f1fd5",
   "metadata": {},
   "outputs": [
    {
     "data": {
      "text/plain": [
       "array([2., 2., 4., 8., 6., 4.])"
      ]
     },
     "execution_count": 12,
     "metadata": {},
     "output_type": "execute_result"
    }
   ],
   "source": [
    "a.take(b)  # take 함수 : bracket index 와 같은 효과"
   ]
  },
  {
   "cell_type": "code",
   "execution_count": 13,
   "id": "81b3a87e",
   "metadata": {},
   "outputs": [
    {
     "data": {
      "text/plain": [
       "array([ 1.,  4., 16., 16.,  4.])"
      ]
     },
     "execution_count": 13,
     "metadata": {},
     "output_type": "execute_result"
    }
   ],
   "source": [
    "a = np.array([[1,4], [9,16]], float)\n",
    "b = np.array([0,0,1,1,0], int)\n",
    "c = np.array([0,1,1,1,1], int)\n",
    "a[b,c]  # b를 row index, c를 column index로 변환하여 표시함"
   ]
  }
 ],
 "metadata": {
  "kernelspec": {
   "display_name": "Python 3 (ipykernel)",
   "language": "python",
   "name": "python3"
  },
  "language_info": {
   "codemirror_mode": {
    "name": "ipython",
    "version": 3
   },
   "file_extension": ".py",
   "mimetype": "text/x-python",
   "name": "python",
   "nbconvert_exporter": "python",
   "pygments_lexer": "ipython3",
   "version": "3.8.10"
  }
 },
 "nbformat": 4,
 "nbformat_minor": 5
}
